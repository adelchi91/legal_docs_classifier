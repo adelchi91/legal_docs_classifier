{
 "cells": [
  {
   "cell_type": "code",
   "execution_count": 1,
   "id": "4af1c438-037e-4531-a7a2-75b30eb8941d",
   "metadata": {},
   "outputs": [
    {
     "name": "stderr",
     "output_type": "stream",
     "text": [
      "/tmp/ipykernel_5240/869041540.py:1: DeprecationWarning: \n",
      "Pyarrow will become a required dependency of pandas in the next major release of pandas (pandas 3.0),\n",
      "(to allow more performant data types, such as the Arrow string type, and better interoperability with other libraries)\n",
      "but was not found to be installed on your system.\n",
      "If this would cause problems for you,\n",
      "please provide us feedback at https://github.com/pandas-dev/pandas/issues/54466\n",
      "        \n",
      "  import pandas as pd\n"
     ]
    }
   ],
   "source": [
    "import pandas as pd\n",
    "from bs4 import BeautifulSoup\n",
    "import pandas as pd\n",
    "from sklearn.model_selection import train_test_split\n",
    "from sklearn.feature_extraction.text import TfidfVectorizer\n",
    "from sklearn.ensemble import AdaBoostClassifier\n",
    "from sklearn.metrics import accuracy_score, classification_report\n",
    "from sklearn.multiclass import OneVsRestClassifier\n",
    "from sklearn.metrics import roc_curve, auc\n",
    "from sklearn.model_selection import train_test_split\n",
    "from sklearn.preprocessing import label_binarize\n",
    "from sklearn.ensemble import RandomForestClassifier\n",
    "import matplotlib.pyplot as plt\n",
    "import numpy as np\n",
    "from sklearn.metrics import make_scorer, f1_score\n",
    "from sklearn.model_selection import GridSearchCV, StratifiedKFold\n",
    "from sklearn.pipeline import Pipeline\n",
    "# from utils.helpers import helpers\n",
    "# from utils.pipelines import grid, clf_adaboost\n",
    "from utils.helpers import print_cross_validation\n",
    "from sklearn.model_selection import cross_validate\n",
    "from sklearn.metrics import precision_recall_curve\n",
    "from sklearn.metrics import confusion_matrix\n"
   ]
  },
  {
   "cell_type": "code",
   "execution_count": 2,
   "id": "ef1dedf1-6194-452f-b133-01b98069808a",
   "metadata": {},
   "outputs": [
    {
     "name": "stdout",
     "output_type": "stream",
     "text": [
      "data-technical-test-master/data/CIV.csv\n"
     ]
    }
   ],
   "source": [
    "!ls data-technical-test-master/data/CIV.csv"
   ]
  },
  {
   "cell_type": "code",
   "execution_count": 3,
   "id": "15317e0d-5e63-4a5f-b031-871e11e1f619",
   "metadata": {},
   "outputs": [
    {
     "name": "stdout",
     "output_type": "stream",
     "text": [
      "CIV.csv      COM.csv\t  CRIM.csv\tdownload-data.sh  SOC.csv\n",
      "CIV.csv.zip  COM.csv.zip  CRIM.csv.zip\tREADME.md\t  SOC.csv.zip\n"
     ]
    }
   ],
   "source": [
    "!ls data-technical-test-master/data/"
   ]
  },
  {
   "cell_type": "markdown",
   "id": "3ededbb5-75a9-4476-86b0-e08e92788d1d",
   "metadata": {
    "jp-MarkdownHeadingCollapsed": true
   },
   "source": [
    "# Import data"
   ]
  },
  {
   "cell_type": "code",
   "execution_count": 4,
   "id": "c8de0051-dd3b-44b2-a0b0-2993486e97cd",
   "metadata": {},
   "outputs": [],
   "source": [
    "df_civ = pd.read_csv(\"data-technical-test-master/data/CIV.csv\", encoding='utf-8', header=None)\n",
    "df_soc = pd.read_csv(\"data-technical-test-master/data/SOC.csv\", encoding='utf-8', header=None)\n",
    "df_crim = pd.read_csv(\"data-technical-test-master/data/CRIM.csv\", encoding='utf-8', header=None)\n",
    "df_com = pd.read_csv(\"data-technical-test-master/data/COM.csv\", encoding='utf-8', header=None)"
   ]
  },
  {
   "cell_type": "markdown",
   "id": "d8b882f4-f8c9-49ef-9f93-2cccb54b3852",
   "metadata": {
    "jp-MarkdownHeadingCollapsed": true
   },
   "source": [
    "# Preprocess html text"
   ]
  },
  {
   "cell_type": "code",
   "execution_count": 5,
   "id": "48e1b714-acc5-42fd-8d38-00c914cfe002",
   "metadata": {},
   "outputs": [],
   "source": [
    "def clean_text(df):\n",
    "    # Function to extract text from HTML-like content\n",
    "    def extract_text(html_content):\n",
    "        soup = BeautifulSoup(html_content, 'html.parser')\n",
    "        cleaned_text = soup.get_text(separator=' ', strip=True)  # Replace '\\n' with space\n",
    "        return ' '.join(cleaned_text.split())  # Remove extra spaces and multiple consecutive newlines\n",
    "    \n",
    "        # soup = BeautifulSoup(html_content, 'html.parser')\n",
    "        # return soup.get_text(separator='\\n', strip=True)\n",
    "    \n",
    "    # Apply the function to the 'column_name' column containing the HTML-like content\n",
    "    df['Cleaned_Content'] = df[df.columns[0]].apply(extract_text)\n",
    "    return df"
   ]
  },
  {
   "cell_type": "code",
   "execution_count": 6,
   "id": "12bb43ff-56bb-40c5-b1ef-307002534592",
   "metadata": {},
   "outputs": [],
   "source": [
    "dfs_list = [df_civ, df_soc, df_crim, df_com]\n",
    "for df in dfs_list:\n",
    "    clean_text(df)"
   ]
  },
  {
   "cell_type": "code",
   "execution_count": 7,
   "id": "d4ea7a9b-ee41-4731-85cc-04a824d59fc8",
   "metadata": {},
   "outputs": [
    {
     "data": {
      "text/html": [
       "<div>\n",
       "<style scoped>\n",
       "    .dataframe tbody tr th:only-of-type {\n",
       "        vertical-align: middle;\n",
       "    }\n",
       "\n",
       "    .dataframe tbody tr th {\n",
       "        vertical-align: top;\n",
       "    }\n",
       "\n",
       "    .dataframe thead th {\n",
       "        text-align: right;\n",
       "    }\n",
       "</style>\n",
       "<table border=\"1\" class=\"dataframe\">\n",
       "  <thead>\n",
       "    <tr style=\"text-align: right;\">\n",
       "      <th></th>\n",
       "      <th>Cleaned_Content</th>\n",
       "      <th>1</th>\n",
       "    </tr>\n",
       "  </thead>\n",
       "  <tbody>\n",
       "    <tr>\n",
       "      <th>0</th>\n",
       "      <td>COUR D'APPEL DE BASTIA CHAMBRE CIVILE Ch. civi...</td>\n",
       "      <td>CIV</td>\n",
       "    </tr>\n",
       "    <tr>\n",
       "      <th>1</th>\n",
       "      <td>Ch. civile A ARRET No du 12 FEVRIER 2014 R. G ...</td>\n",
       "      <td>CIV</td>\n",
       "    </tr>\n",
       "    <tr>\n",
       "      <th>2</th>\n",
       "      <td>COUR D'APPEL DE LYON Troisième Chambre Civile ...</td>\n",
       "      <td>CIV</td>\n",
       "    </tr>\n",
       "    <tr>\n",
       "      <th>3</th>\n",
       "      <td>Ch. civile B ARRET du 08 JUIN 2011 R. G : 10/ ...</td>\n",
       "      <td>CIV</td>\n",
       "    </tr>\n",
       "    <tr>\n",
       "      <th>4</th>\n",
       "      <td>R. G : 09/ 01472 décision du Tribunal de Grand...</td>\n",
       "      <td>CIV</td>\n",
       "    </tr>\n",
       "  </tbody>\n",
       "</table>\n",
       "</div>"
      ],
      "text/plain": [
       "                                     Cleaned_Content    1\n",
       "0  COUR D'APPEL DE BASTIA CHAMBRE CIVILE Ch. civi...  CIV\n",
       "1  Ch. civile A ARRET No du 12 FEVRIER 2014 R. G ...  CIV\n",
       "2  COUR D'APPEL DE LYON Troisième Chambre Civile ...  CIV\n",
       "3  Ch. civile B ARRET du 08 JUIN 2011 R. G : 10/ ...  CIV\n",
       "4  R. G : 09/ 01472 décision du Tribunal de Grand...  CIV"
      ]
     },
     "execution_count": 7,
     "metadata": {},
     "output_type": "execute_result"
    }
   ],
   "source": [
    "df_civ[['Cleaned_Content',df_civ.columns[1]]].head()"
   ]
  },
  {
   "cell_type": "markdown",
   "id": "860ce9c6-45b0-4270-833a-874c10f17cfd",
   "metadata": {},
   "source": [
    "# With Adaboost"
   ]
  },
  {
   "cell_type": "markdown",
   "id": "88b60c44-9522-4928-930f-8babe028e10f",
   "metadata": {},
   "source": [
    "## Data preparation"
   ]
  },
  {
   "cell_type": "code",
   "execution_count": 10,
   "id": "a7c25aeb-2647-41a7-b115-222cf5e593c5",
   "metadata": {},
   "outputs": [],
   "source": [
    "# Load your data from CSV files\n",
    "civil_df = df_civ.copy()\n",
    "criminal_df = df_crim.copy()\n",
    "commercial_df = df_com.copy()\n",
    "social_df = df_soc.copy()\n",
    "# Assign labels to each legal domain\n",
    "civil_df['label'] = 'CIV'\n",
    "criminal_df['label'] = 'CRIM'\n",
    "commercial_df['label'] = 'COM'\n",
    "social_df['label'] = 'SOC'"
   ]
  },
  {
   "cell_type": "code",
   "execution_count": 11,
   "id": "11337272-f9d5-4328-8cd3-040d42364e56",
   "metadata": {},
   "outputs": [],
   "source": [
    "# dropping useless columns\n",
    "civil_df.drop(columns=[0,1], errors='ignore', inplace=True)\n",
    "criminal_df.drop(columns=[0,1], errors='ignore', inplace=True)\n",
    "commercial_df.drop(columns=[0,1], errors='ignore', inplace=True)\n",
    "social_df.drop(columns=[0,1], errors='ignore', inplace=True)\n",
    "# Combine all dataframes into one\n",
    "df = pd.concat([civil_df, criminal_df, commercial_df, social_df], ignore_index=True)"
   ]
  },
  {
   "cell_type": "code",
   "execution_count": 12,
   "id": "3ee922c7-2093-4346-aaae-a98d4f4861b1",
   "metadata": {},
   "outputs": [
    {
     "data": {
      "text/plain": [
       "label\n",
       "CIV     13087\n",
       "SOC     12262\n",
       "COM      2265\n",
       "CRIM      384\n",
       "Name: count, dtype: int64"
      ]
     },
     "execution_count": 12,
     "metadata": {},
     "output_type": "execute_result"
    }
   ],
   "source": [
    "df.label.value_counts()"
   ]
  },
  {
   "cell_type": "code",
   "execution_count": 13,
   "id": "1e4378c9-d5b9-4c32-899e-0de6a6f556dc",
   "metadata": {},
   "outputs": [],
   "source": [
    "# Split the dataset into training and testing sets\n",
    "train_df, test_df = train_test_split(df, test_size=0.2, random_state=42)"
   ]
  },
  {
   "cell_type": "code",
   "execution_count": 14,
   "id": "8f8699fd-a40b-4de9-a30e-59a00a1b1d81",
   "metadata": {},
   "outputs": [],
   "source": [
    "# Convert labels to numerical values\n",
    "label_mapping = {'CIV': 0, 'CRIM': 1, 'COM': 2, 'SOC': 3}\n",
    "y_train = train_df['label'].map(label_mapping)\n",
    "y_test = test_df['label'].map(label_mapping)"
   ]
  },
  {
   "cell_type": "markdown",
   "id": "32571cd9-eaf6-4252-b08d-92200fe2083b",
   "metadata": {
    "jp-MarkdownHeadingCollapsed": true
   },
   "source": [
    "## Cross-validation"
   ]
  },
  {
   "cell_type": "code",
   "execution_count": 16,
   "id": "afff3a14-2721-4d2d-9975-57adfb9a3466",
   "metadata": {},
   "outputs": [
    {
     "name": "stderr",
     "output_type": "stream",
     "text": [
      "[Parallel(n_jobs=12)]: Using backend LokyBackend with 12 concurrent workers.\n",
      "/home/adelchiasta/venv/venv_doctrine/lib64/python3.11/site-packages/sklearn/ensemble/_weight_boosting.py:519: FutureWarning: The SAMME.R algorithm (the default) is deprecated and will be removed in 1.6. Use the SAMME algorithm to circumvent this warning.\n",
      "  warnings.warn(\n",
      "/home/adelchiasta/venv/venv_doctrine/lib64/python3.11/site-packages/sklearn/ensemble/_weight_boosting.py:519: FutureWarning: The SAMME.R algorithm (the default) is deprecated and will be removed in 1.6. Use the SAMME algorithm to circumvent this warning.\n",
      "  warnings.warn(\n",
      "/home/adelchiasta/venv/venv_doctrine/lib64/python3.11/site-packages/sklearn/ensemble/_weight_boosting.py:519: FutureWarning: The SAMME.R algorithm (the default) is deprecated and will be removed in 1.6. Use the SAMME algorithm to circumvent this warning.\n",
      "  warnings.warn(\n",
      "/home/adelchiasta/venv/venv_doctrine/lib64/python3.11/site-packages/sklearn/ensemble/_weight_boosting.py:519: FutureWarning: The SAMME.R algorithm (the default) is deprecated and will be removed in 1.6. Use the SAMME algorithm to circumvent this warning.\n",
      "  warnings.warn(\n"
     ]
    },
    {
     "name": "stdout",
     "output_type": "stream",
     "text": [
      "Cross-Validation F1 Weighted Scores: [0.90386038 0.87546354 0.88856929 0.89661273]\n",
      "Mean F1 Weighted: 0.8911264862899488\n"
     ]
    },
    {
     "name": "stderr",
     "output_type": "stream",
     "text": [
      "[Parallel(n_jobs=12)]: Done   4 out of   4 | elapsed:  6.7min finished\n"
     ]
    }
   ],
   "source": [
    "from sklearn.model_selection import cross_val_score\n",
    "\n",
    "# Assuming df is your dataframe, and 'Cleaned_Content' is the text column\n",
    "X = train_df['Cleaned_Content']\n",
    "y = train_df['label'].map(label_mapping)  # Replace 'target_variable' with the actual name of your target column\n",
    "\n",
    "# Define the steps for the pipeline\n",
    "steps = [\n",
    "    ('vectorizer', TfidfVectorizer(max_features=4000)),\n",
    "    ('model', AdaBoostClassifier(n_estimators=50, random_state=42))  # Replace with your actual model\n",
    "]\n",
    "\n",
    "# Create the pipeline\n",
    "pipeline = Pipeline(steps)\n",
    "\n",
    "# Assuming you have your target variable in 'y'\n",
    "# If it's a binary classification, use 'StratifiedKFold', for multi-class, use 'KFold'\n",
    "kf = StratifiedKFold(n_splits=4, shuffle=True, random_state=42)\n",
    "selection_metric= \"neg_log_loss\"\n",
    "# Define the F1-score weighted scorer\n",
    "f1_weighted_scorer = make_scorer(f1_score, average='weighted')\n",
    "# Specify the list of scoring metrics you want to use\n",
    "scoring_metrics ={\n",
    "                        'neg_log_loss': 'neg_log_loss',\n",
    "                        # 'brier': 'neg_brier_score',\n",
    "                        'f1_weighted': f1_weighted_scorer,  # New metric\n",
    "                    }\n",
    "\n",
    "# # Use cross_val_score to perform cross-validation\n",
    "# scores = cross_val_score(pipeline, X, y, cv=kf, scoring='f1_weighted',\n",
    "#                             verbose=1,\n",
    "# #                             n_jobs=12)\n",
    "\n",
    "# # Print or store the cross-validation results\n",
    "# print(f'Cross-Validation Scores: {scores}')\n",
    "# print(f'Mean Accuracy: {np.mean(scores)}')\n",
    "# Use cross_validate for cross-validation with multiple scoring metrics\n",
    "cv_results = cross_validate(pipeline, X, y, cv=kf, scoring=scoring_metrics, \n",
    "                            verbose=1,\n",
    "                            # refit=selection_metric,\n",
    "                            n_jobs=12,\n",
    "                            return_train_score=True)\n",
    "\n",
    "# Access the results for each metric\n",
    "f1_weighted_scores = cv_results['test_f1_weighted']\n",
    "\n",
    "# Print or store the cross-validation results for the F1 weighted score\n",
    "print(f'Cross-Validation F1 Weighted Scores: {f1_weighted_scores}')\n",
    "print(f'Mean F1 Weighted: {np.mean(f1_weighted_scores)}')"
   ]
  },
  {
   "cell_type": "code",
   "execution_count": 17,
   "id": "5d013769-ccf3-4a31-a85a-220ce9930a7d",
   "metadata": {},
   "outputs": [
    {
     "data": {
      "text/plain": [
       "{'fit_time': array([204.20312476, 204.96063542, 205.37880063, 206.01213837]),\n",
       " 'score_time': array([45.20045137, 47.70469522, 45.29959416, 48.30941558]),\n",
       " 'test_neg_log_loss': array([-1.10195879, -1.13615994, -1.15585507, -1.15556752]),\n",
       " 'train_neg_log_loss': array([-1.09997194, -1.13520582, -1.15601189, -1.1540688 ]),\n",
       " 'test_f1_weighted': array([0.90386038, 0.87546354, 0.88856929, 0.89661273]),\n",
       " 'train_f1_weighted': array([0.90679034, 0.87786629, 0.88292255, 0.90249236])}"
      ]
     },
     "execution_count": 17,
     "metadata": {},
     "output_type": "execute_result"
    }
   ],
   "source": [
    "cv_results"
   ]
  },
  {
   "cell_type": "code",
   "execution_count": 18,
   "id": "2aca2782-f47c-446d-9c31-e33799f6d2ea",
   "metadata": {},
   "outputs": [
    {
     "name": "stderr",
     "output_type": "stream",
     "text": [
      "/home/adelchiasta/venv/venv_doctrine/lib64/python3.11/site-packages/sklearn/ensemble/_weight_boosting.py:519: FutureWarning: The SAMME.R algorithm (the default) is deprecated and will be removed in 1.6. Use the SAMME algorithm to circumvent this warning.\n",
      "  warnings.warn(\n"
     ]
    },
    {
     "data": {
      "text/html": [
       "<style>#sk-container-id-1 {\n",
       "  /* Definition of color scheme common for light and dark mode */\n",
       "  --sklearn-color-text: black;\n",
       "  --sklearn-color-line: gray;\n",
       "  /* Definition of color scheme for unfitted estimators */\n",
       "  --sklearn-color-unfitted-level-0: #fff5e6;\n",
       "  --sklearn-color-unfitted-level-1: #f6e4d2;\n",
       "  --sklearn-color-unfitted-level-2: #ffe0b3;\n",
       "  --sklearn-color-unfitted-level-3: chocolate;\n",
       "  /* Definition of color scheme for fitted estimators */\n",
       "  --sklearn-color-fitted-level-0: #f0f8ff;\n",
       "  --sklearn-color-fitted-level-1: #d4ebff;\n",
       "  --sklearn-color-fitted-level-2: #b3dbfd;\n",
       "  --sklearn-color-fitted-level-3: cornflowerblue;\n",
       "\n",
       "  /* Specific color for light theme */\n",
       "  --sklearn-color-text-on-default-background: var(--sg-text-color, var(--theme-code-foreground, var(--jp-content-font-color1, black)));\n",
       "  --sklearn-color-background: var(--sg-background-color, var(--theme-background, var(--jp-layout-color0, white)));\n",
       "  --sklearn-color-border-box: var(--sg-text-color, var(--theme-code-foreground, var(--jp-content-font-color1, black)));\n",
       "  --sklearn-color-icon: #696969;\n",
       "\n",
       "  @media (prefers-color-scheme: dark) {\n",
       "    /* Redefinition of color scheme for dark theme */\n",
       "    --sklearn-color-text-on-default-background: var(--sg-text-color, var(--theme-code-foreground, var(--jp-content-font-color1, white)));\n",
       "    --sklearn-color-background: var(--sg-background-color, var(--theme-background, var(--jp-layout-color0, #111)));\n",
       "    --sklearn-color-border-box: var(--sg-text-color, var(--theme-code-foreground, var(--jp-content-font-color1, white)));\n",
       "    --sklearn-color-icon: #878787;\n",
       "  }\n",
       "}\n",
       "\n",
       "#sk-container-id-1 {\n",
       "  color: var(--sklearn-color-text);\n",
       "}\n",
       "\n",
       "#sk-container-id-1 pre {\n",
       "  padding: 0;\n",
       "}\n",
       "\n",
       "#sk-container-id-1 input.sk-hidden--visually {\n",
       "  border: 0;\n",
       "  clip: rect(1px 1px 1px 1px);\n",
       "  clip: rect(1px, 1px, 1px, 1px);\n",
       "  height: 1px;\n",
       "  margin: -1px;\n",
       "  overflow: hidden;\n",
       "  padding: 0;\n",
       "  position: absolute;\n",
       "  width: 1px;\n",
       "}\n",
       "\n",
       "#sk-container-id-1 div.sk-dashed-wrapped {\n",
       "  border: 1px dashed var(--sklearn-color-line);\n",
       "  margin: 0 0.4em 0.5em 0.4em;\n",
       "  box-sizing: border-box;\n",
       "  padding-bottom: 0.4em;\n",
       "  background-color: var(--sklearn-color-background);\n",
       "}\n",
       "\n",
       "#sk-container-id-1 div.sk-container {\n",
       "  /* jupyter's `normalize.less` sets `[hidden] { display: none; }`\n",
       "     but bootstrap.min.css set `[hidden] { display: none !important; }`\n",
       "     so we also need the `!important` here to be able to override the\n",
       "     default hidden behavior on the sphinx rendered scikit-learn.org.\n",
       "     See: https://github.com/scikit-learn/scikit-learn/issues/21755 */\n",
       "  display: inline-block !important;\n",
       "  position: relative;\n",
       "}\n",
       "\n",
       "#sk-container-id-1 div.sk-text-repr-fallback {\n",
       "  display: none;\n",
       "}\n",
       "\n",
       "div.sk-parallel-item,\n",
       "div.sk-serial,\n",
       "div.sk-item {\n",
       "  /* draw centered vertical line to link estimators */\n",
       "  background-image: linear-gradient(var(--sklearn-color-text-on-default-background), var(--sklearn-color-text-on-default-background));\n",
       "  background-size: 2px 100%;\n",
       "  background-repeat: no-repeat;\n",
       "  background-position: center center;\n",
       "}\n",
       "\n",
       "/* Parallel-specific style estimator block */\n",
       "\n",
       "#sk-container-id-1 div.sk-parallel-item::after {\n",
       "  content: \"\";\n",
       "  width: 100%;\n",
       "  border-bottom: 2px solid var(--sklearn-color-text-on-default-background);\n",
       "  flex-grow: 1;\n",
       "}\n",
       "\n",
       "#sk-container-id-1 div.sk-parallel {\n",
       "  display: flex;\n",
       "  align-items: stretch;\n",
       "  justify-content: center;\n",
       "  background-color: var(--sklearn-color-background);\n",
       "  position: relative;\n",
       "}\n",
       "\n",
       "#sk-container-id-1 div.sk-parallel-item {\n",
       "  display: flex;\n",
       "  flex-direction: column;\n",
       "}\n",
       "\n",
       "#sk-container-id-1 div.sk-parallel-item:first-child::after {\n",
       "  align-self: flex-end;\n",
       "  width: 50%;\n",
       "}\n",
       "\n",
       "#sk-container-id-1 div.sk-parallel-item:last-child::after {\n",
       "  align-self: flex-start;\n",
       "  width: 50%;\n",
       "}\n",
       "\n",
       "#sk-container-id-1 div.sk-parallel-item:only-child::after {\n",
       "  width: 0;\n",
       "}\n",
       "\n",
       "/* Serial-specific style estimator block */\n",
       "\n",
       "#sk-container-id-1 div.sk-serial {\n",
       "  display: flex;\n",
       "  flex-direction: column;\n",
       "  align-items: center;\n",
       "  background-color: var(--sklearn-color-background);\n",
       "  padding-right: 1em;\n",
       "  padding-left: 1em;\n",
       "}\n",
       "\n",
       "\n",
       "/* Toggleable style: style used for estimator/Pipeline/ColumnTransformer box that is\n",
       "clickable and can be expanded/collapsed.\n",
       "- Pipeline and ColumnTransformer use this feature and define the default style\n",
       "- Estimators will overwrite some part of the style using the `sk-estimator` class\n",
       "*/\n",
       "\n",
       "/* Pipeline and ColumnTransformer style (default) */\n",
       "\n",
       "#sk-container-id-1 div.sk-toggleable {\n",
       "  /* Default theme specific background. It is overwritten whether we have a\n",
       "  specific estimator or a Pipeline/ColumnTransformer */\n",
       "  background-color: var(--sklearn-color-background);\n",
       "}\n",
       "\n",
       "/* Toggleable label */\n",
       "#sk-container-id-1 label.sk-toggleable__label {\n",
       "  cursor: pointer;\n",
       "  display: block;\n",
       "  width: 100%;\n",
       "  margin-bottom: 0;\n",
       "  padding: 0.5em;\n",
       "  box-sizing: border-box;\n",
       "  text-align: center;\n",
       "}\n",
       "\n",
       "#sk-container-id-1 label.sk-toggleable__label-arrow:before {\n",
       "  /* Arrow on the left of the label */\n",
       "  content: \"▸\";\n",
       "  float: left;\n",
       "  margin-right: 0.25em;\n",
       "  color: var(--sklearn-color-icon);\n",
       "}\n",
       "\n",
       "#sk-container-id-1 label.sk-toggleable__label-arrow:hover:before {\n",
       "  color: var(--sklearn-color-text);\n",
       "}\n",
       "\n",
       "/* Toggleable content - dropdown */\n",
       "\n",
       "#sk-container-id-1 div.sk-toggleable__content {\n",
       "  max-height: 0;\n",
       "  max-width: 0;\n",
       "  overflow: hidden;\n",
       "  text-align: left;\n",
       "  /* unfitted */\n",
       "  background-color: var(--sklearn-color-unfitted-level-0);\n",
       "}\n",
       "\n",
       "#sk-container-id-1 div.sk-toggleable__content.fitted {\n",
       "  /* fitted */\n",
       "  background-color: var(--sklearn-color-fitted-level-0);\n",
       "}\n",
       "\n",
       "#sk-container-id-1 div.sk-toggleable__content pre {\n",
       "  margin: 0.2em;\n",
       "  border-radius: 0.25em;\n",
       "  color: var(--sklearn-color-text);\n",
       "  /* unfitted */\n",
       "  background-color: var(--sklearn-color-unfitted-level-0);\n",
       "}\n",
       "\n",
       "#sk-container-id-1 div.sk-toggleable__content.fitted pre {\n",
       "  /* unfitted */\n",
       "  background-color: var(--sklearn-color-fitted-level-0);\n",
       "}\n",
       "\n",
       "#sk-container-id-1 input.sk-toggleable__control:checked~div.sk-toggleable__content {\n",
       "  /* Expand drop-down */\n",
       "  max-height: 200px;\n",
       "  max-width: 100%;\n",
       "  overflow: auto;\n",
       "}\n",
       "\n",
       "#sk-container-id-1 input.sk-toggleable__control:checked~label.sk-toggleable__label-arrow:before {\n",
       "  content: \"▾\";\n",
       "}\n",
       "\n",
       "/* Pipeline/ColumnTransformer-specific style */\n",
       "\n",
       "#sk-container-id-1 div.sk-label input.sk-toggleable__control:checked~label.sk-toggleable__label {\n",
       "  color: var(--sklearn-color-text);\n",
       "  background-color: var(--sklearn-color-unfitted-level-2);\n",
       "}\n",
       "\n",
       "#sk-container-id-1 div.sk-label.fitted input.sk-toggleable__control:checked~label.sk-toggleable__label {\n",
       "  background-color: var(--sklearn-color-fitted-level-2);\n",
       "}\n",
       "\n",
       "/* Estimator-specific style */\n",
       "\n",
       "/* Colorize estimator box */\n",
       "#sk-container-id-1 div.sk-estimator input.sk-toggleable__control:checked~label.sk-toggleable__label {\n",
       "  /* unfitted */\n",
       "  background-color: var(--sklearn-color-unfitted-level-2);\n",
       "}\n",
       "\n",
       "#sk-container-id-1 div.sk-estimator.fitted input.sk-toggleable__control:checked~label.sk-toggleable__label {\n",
       "  /* fitted */\n",
       "  background-color: var(--sklearn-color-fitted-level-2);\n",
       "}\n",
       "\n",
       "#sk-container-id-1 div.sk-label label.sk-toggleable__label,\n",
       "#sk-container-id-1 div.sk-label label {\n",
       "  /* The background is the default theme color */\n",
       "  color: var(--sklearn-color-text-on-default-background);\n",
       "}\n",
       "\n",
       "/* On hover, darken the color of the background */\n",
       "#sk-container-id-1 div.sk-label:hover label.sk-toggleable__label {\n",
       "  color: var(--sklearn-color-text);\n",
       "  background-color: var(--sklearn-color-unfitted-level-2);\n",
       "}\n",
       "\n",
       "/* Label box, darken color on hover, fitted */\n",
       "#sk-container-id-1 div.sk-label.fitted:hover label.sk-toggleable__label.fitted {\n",
       "  color: var(--sklearn-color-text);\n",
       "  background-color: var(--sklearn-color-fitted-level-2);\n",
       "}\n",
       "\n",
       "/* Estimator label */\n",
       "\n",
       "#sk-container-id-1 div.sk-label label {\n",
       "  font-family: monospace;\n",
       "  font-weight: bold;\n",
       "  display: inline-block;\n",
       "  line-height: 1.2em;\n",
       "}\n",
       "\n",
       "#sk-container-id-1 div.sk-label-container {\n",
       "  text-align: center;\n",
       "}\n",
       "\n",
       "/* Estimator-specific */\n",
       "#sk-container-id-1 div.sk-estimator {\n",
       "  font-family: monospace;\n",
       "  border: 1px dotted var(--sklearn-color-border-box);\n",
       "  border-radius: 0.25em;\n",
       "  box-sizing: border-box;\n",
       "  margin-bottom: 0.5em;\n",
       "  /* unfitted */\n",
       "  background-color: var(--sklearn-color-unfitted-level-0);\n",
       "}\n",
       "\n",
       "#sk-container-id-1 div.sk-estimator.fitted {\n",
       "  /* fitted */\n",
       "  background-color: var(--sklearn-color-fitted-level-0);\n",
       "}\n",
       "\n",
       "/* on hover */\n",
       "#sk-container-id-1 div.sk-estimator:hover {\n",
       "  /* unfitted */\n",
       "  background-color: var(--sklearn-color-unfitted-level-2);\n",
       "}\n",
       "\n",
       "#sk-container-id-1 div.sk-estimator.fitted:hover {\n",
       "  /* fitted */\n",
       "  background-color: var(--sklearn-color-fitted-level-2);\n",
       "}\n",
       "\n",
       "/* Specification for estimator info (e.g. \"i\" and \"?\") */\n",
       "\n",
       "/* Common style for \"i\" and \"?\" */\n",
       "\n",
       ".sk-estimator-doc-link,\n",
       "a:link.sk-estimator-doc-link,\n",
       "a:visited.sk-estimator-doc-link {\n",
       "  float: right;\n",
       "  font-size: smaller;\n",
       "  line-height: 1em;\n",
       "  font-family: monospace;\n",
       "  background-color: var(--sklearn-color-background);\n",
       "  border-radius: 1em;\n",
       "  height: 1em;\n",
       "  width: 1em;\n",
       "  text-decoration: none !important;\n",
       "  margin-left: 1ex;\n",
       "  /* unfitted */\n",
       "  border: var(--sklearn-color-unfitted-level-1) 1pt solid;\n",
       "  color: var(--sklearn-color-unfitted-level-1);\n",
       "}\n",
       "\n",
       ".sk-estimator-doc-link.fitted,\n",
       "a:link.sk-estimator-doc-link.fitted,\n",
       "a:visited.sk-estimator-doc-link.fitted {\n",
       "  /* fitted */\n",
       "  border: var(--sklearn-color-fitted-level-1) 1pt solid;\n",
       "  color: var(--sklearn-color-fitted-level-1);\n",
       "}\n",
       "\n",
       "/* On hover */\n",
       "div.sk-estimator:hover .sk-estimator-doc-link:hover,\n",
       ".sk-estimator-doc-link:hover,\n",
       "div.sk-label-container:hover .sk-estimator-doc-link:hover,\n",
       ".sk-estimator-doc-link:hover {\n",
       "  /* unfitted */\n",
       "  background-color: var(--sklearn-color-unfitted-level-3);\n",
       "  color: var(--sklearn-color-background);\n",
       "  text-decoration: none;\n",
       "}\n",
       "\n",
       "div.sk-estimator.fitted:hover .sk-estimator-doc-link.fitted:hover,\n",
       ".sk-estimator-doc-link.fitted:hover,\n",
       "div.sk-label-container:hover .sk-estimator-doc-link.fitted:hover,\n",
       ".sk-estimator-doc-link.fitted:hover {\n",
       "  /* fitted */\n",
       "  background-color: var(--sklearn-color-fitted-level-3);\n",
       "  color: var(--sklearn-color-background);\n",
       "  text-decoration: none;\n",
       "}\n",
       "\n",
       "/* Span, style for the box shown on hovering the info icon */\n",
       ".sk-estimator-doc-link span {\n",
       "  display: none;\n",
       "  z-index: 9999;\n",
       "  position: relative;\n",
       "  font-weight: normal;\n",
       "  right: .2ex;\n",
       "  padding: .5ex;\n",
       "  margin: .5ex;\n",
       "  width: min-content;\n",
       "  min-width: 20ex;\n",
       "  max-width: 50ex;\n",
       "  color: var(--sklearn-color-text);\n",
       "  box-shadow: 2pt 2pt 4pt #999;\n",
       "  /* unfitted */\n",
       "  background: var(--sklearn-color-unfitted-level-0);\n",
       "  border: .5pt solid var(--sklearn-color-unfitted-level-3);\n",
       "}\n",
       "\n",
       ".sk-estimator-doc-link.fitted span {\n",
       "  /* fitted */\n",
       "  background: var(--sklearn-color-fitted-level-0);\n",
       "  border: var(--sklearn-color-fitted-level-3);\n",
       "}\n",
       "\n",
       ".sk-estimator-doc-link:hover span {\n",
       "  display: block;\n",
       "}\n",
       "\n",
       "/* \"?\"-specific style due to the `<a>` HTML tag */\n",
       "\n",
       "#sk-container-id-1 a.estimator_doc_link {\n",
       "  float: right;\n",
       "  font-size: 1rem;\n",
       "  line-height: 1em;\n",
       "  font-family: monospace;\n",
       "  background-color: var(--sklearn-color-background);\n",
       "  border-radius: 1rem;\n",
       "  height: 1rem;\n",
       "  width: 1rem;\n",
       "  text-decoration: none;\n",
       "  /* unfitted */\n",
       "  color: var(--sklearn-color-unfitted-level-1);\n",
       "  border: var(--sklearn-color-unfitted-level-1) 1pt solid;\n",
       "}\n",
       "\n",
       "#sk-container-id-1 a.estimator_doc_link.fitted {\n",
       "  /* fitted */\n",
       "  border: var(--sklearn-color-fitted-level-1) 1pt solid;\n",
       "  color: var(--sklearn-color-fitted-level-1);\n",
       "}\n",
       "\n",
       "/* On hover */\n",
       "#sk-container-id-1 a.estimator_doc_link:hover {\n",
       "  /* unfitted */\n",
       "  background-color: var(--sklearn-color-unfitted-level-3);\n",
       "  color: var(--sklearn-color-background);\n",
       "  text-decoration: none;\n",
       "}\n",
       "\n",
       "#sk-container-id-1 a.estimator_doc_link.fitted:hover {\n",
       "  /* fitted */\n",
       "  background-color: var(--sklearn-color-fitted-level-3);\n",
       "}\n",
       "</style><div id=\"sk-container-id-1\" class=\"sk-top-container\"><div class=\"sk-text-repr-fallback\"><pre>Pipeline(steps=[(&#x27;vectorizer&#x27;, TfidfVectorizer(max_features=4000)),\n",
       "                (&#x27;model&#x27;, AdaBoostClassifier(random_state=42))])</pre><b>In a Jupyter environment, please rerun this cell to show the HTML representation or trust the notebook. <br />On GitHub, the HTML representation is unable to render, please try loading this page with nbviewer.org.</b></div><div class=\"sk-container\" hidden><div class=\"sk-item sk-dashed-wrapped\"><div class=\"sk-label-container\"><div class=\"sk-label fitted sk-toggleable\"><input class=\"sk-toggleable__control sk-hidden--visually\" id=\"sk-estimator-id-1\" type=\"checkbox\" ><label for=\"sk-estimator-id-1\" class=\"sk-toggleable__label fitted sk-toggleable__label-arrow fitted\">&nbsp;&nbsp;Pipeline<a class=\"sk-estimator-doc-link fitted\" rel=\"noreferrer\" target=\"_blank\" href=\"https://scikit-learn.org/1.4/modules/generated/sklearn.pipeline.Pipeline.html\">?<span>Documentation for Pipeline</span></a><span class=\"sk-estimator-doc-link fitted\">i<span>Fitted</span></span></label><div class=\"sk-toggleable__content fitted\"><pre>Pipeline(steps=[(&#x27;vectorizer&#x27;, TfidfVectorizer(max_features=4000)),\n",
       "                (&#x27;model&#x27;, AdaBoostClassifier(random_state=42))])</pre></div> </div></div><div class=\"sk-serial\"><div class=\"sk-item\"><div class=\"sk-estimator fitted sk-toggleable\"><input class=\"sk-toggleable__control sk-hidden--visually\" id=\"sk-estimator-id-2\" type=\"checkbox\" ><label for=\"sk-estimator-id-2\" class=\"sk-toggleable__label fitted sk-toggleable__label-arrow fitted\">&nbsp;TfidfVectorizer<a class=\"sk-estimator-doc-link fitted\" rel=\"noreferrer\" target=\"_blank\" href=\"https://scikit-learn.org/1.4/modules/generated/sklearn.feature_extraction.text.TfidfVectorizer.html\">?<span>Documentation for TfidfVectorizer</span></a></label><div class=\"sk-toggleable__content fitted\"><pre>TfidfVectorizer(max_features=4000)</pre></div> </div></div><div class=\"sk-item\"><div class=\"sk-estimator fitted sk-toggleable\"><input class=\"sk-toggleable__control sk-hidden--visually\" id=\"sk-estimator-id-3\" type=\"checkbox\" ><label for=\"sk-estimator-id-3\" class=\"sk-toggleable__label fitted sk-toggleable__label-arrow fitted\">&nbsp;AdaBoostClassifier<a class=\"sk-estimator-doc-link fitted\" rel=\"noreferrer\" target=\"_blank\" href=\"https://scikit-learn.org/1.4/modules/generated/sklearn.ensemble.AdaBoostClassifier.html\">?<span>Documentation for AdaBoostClassifier</span></a></label><div class=\"sk-toggleable__content fitted\"><pre>AdaBoostClassifier(random_state=42)</pre></div> </div></div></div></div></div></div>"
      ],
      "text/plain": [
       "Pipeline(steps=[('vectorizer', TfidfVectorizer(max_features=4000)),\n",
       "                ('model', AdaBoostClassifier(random_state=42))])"
      ]
     },
     "execution_count": 18,
     "metadata": {},
     "output_type": "execute_result"
    }
   ],
   "source": [
    "# Refit the model on the entire training dataset\n",
    "pipeline.fit(X, y)"
   ]
  },
  {
   "cell_type": "markdown",
   "id": "ba9d7764-dc04-4664-9586-3513fd08bd05",
   "metadata": {},
   "source": [
    "## Performance on test set"
   ]
  },
  {
   "cell_type": "code",
   "execution_count": 19,
   "id": "0cdfaf9f-2397-406d-bdab-9e827b08e259",
   "metadata": {},
   "outputs": [
    {
     "name": "stdout",
     "output_type": "stream",
     "text": [
      "Accuracy: 0.8966071428571428\n",
      "Classification Report:\n",
      "              precision    recall  f1-score   support\n",
      "\n",
      "           0       0.85      0.95      0.90      2619\n",
      "           1       1.00      0.85      0.92        81\n",
      "           2       0.56      0.28      0.37       459\n",
      "           3       0.98      0.96      0.97      2441\n",
      "\n",
      "    accuracy                           0.90      5600\n",
      "   macro avg       0.85      0.76      0.79      5600\n",
      "weighted avg       0.89      0.90      0.89      5600\n",
      "\n"
     ]
    }
   ],
   "source": [
    "# Predictions\n",
    "y_pred = pipeline.predict(test_df['Cleaned_Content'])\n",
    "# Evaluate\n",
    "accuracy = accuracy_score(test_df['label'].map(label_mapping), y_pred)\n",
    "report = classification_report(test_df['label'].map(label_mapping), y_pred)\n",
    "\n",
    "print(f\"Accuracy: {accuracy}\")\n",
    "print(f\"Classification Report:\\n{report}\")"
   ]
  },
  {
   "cell_type": "code",
   "execution_count": 20,
   "id": "367310dc-2aca-4845-a1dc-24e5a6927961",
   "metadata": {},
   "outputs": [
    {
     "data": {
      "text/plain": [
       "array([0, 1, 2, 3])"
      ]
     },
     "execution_count": 20,
     "metadata": {},
     "output_type": "execute_result"
    }
   ],
   "source": [
    "pipeline.classes_"
   ]
  },
  {
   "cell_type": "markdown",
   "id": "75f39213-1d2e-4c02-ba34-e4579ea0eaf8",
   "metadata": {
    "jp-MarkdownHeadingCollapsed": true
   },
   "source": [
    "## Error analysis"
   ]
  },
  {
   "cell_type": "code",
   "execution_count": 18,
   "id": "5d535ef5-bb0b-4892-b408-f9950e3ceb7e",
   "metadata": {},
   "outputs": [],
   "source": [
    "# {'CIV': 0, 'CRIM': 1, 'COM': 2, 'SOC': 3}"
   ]
  },
  {
   "cell_type": "code",
   "execution_count": 22,
   "id": "5bf1f8e1-d536-42ea-a9b6-fccc3c46f531",
   "metadata": {},
   "outputs": [
    {
     "name": "stdout",
     "output_type": "stream",
     "text": [
      "F1 Score with Chosen Threshold: 0.15015710269555152\n"
     ]
    }
   ],
   "source": [
    "X_test = test_df['Cleaned_Content']\n",
    "\n",
    "# Change according to the class of interest\n",
    "class_of_interest = 2\n",
    "positive_class_probabilities = pipeline.predict_proba(X_test)[:, 1]\n",
    "\n",
    "# Choose a threshold based on the curve or your specific requirements\n",
    "chosen_threshold = 0.1  # Adjust this based on the analysis of the precision-recall curve\n",
    "11\n",
    "# Make predictions using the chosen threshold\n",
    "predictions = positive_class_probabilities >= chosen_threshold\n",
    "\n",
    "# Evaluate the model with the chosen threshold (e.g., using F1 score)\n",
    "f1 = f1_score(y_test == class_of_interest, predictions)\n",
    "print(f'F1 Score with Chosen Threshold: {f1}')"
   ]
  },
  {
   "cell_type": "code",
   "execution_count": 23,
   "id": "5441a1ce-b87e-4e5d-834b-33b15be9e3dc",
   "metadata": {},
   "outputs": [
    {
     "data": {
      "image/png": "[encoded data removed]",
      "text/plain": [
       "<Figure size 640x480 with 1 Axes>"
      ]
     },
     "metadata": {},
     "output_type": "display_data"
    },
    {
     "name": "stdout",
     "output_type": "stream",
     "text": [
      "Best Threshold: 0.24000000000000002\n"
     ]
    }
   ],
   "source": [
    "import numpy as np\n",
    "import matplotlib.pyplot as plt\n",
    "from sklearn.metrics import f1_score\n",
    "\n",
    "# Change according to the class of interest\n",
    "class_of_interest = 1\n",
    "\n",
    "positive_class_probabilities = pipeline.predict_proba(X_test)[:, 1]\n",
    "y_test = test_df['label'].map(label_mapping)\n",
    "# Define a range of thresholds to evaluate\n",
    "thresholds = np.arange(0.01, 1.1, 0.01)\n",
    "\n",
    "# Initialize lists to store threshold and corresponding F1 score\n",
    "threshold_values = []\n",
    "f1_scores = []\n",
    "\n",
    "# Iterate over the thresholds and calculate F1 score for each\n",
    "for threshold in thresholds:\n",
    "    predictions = positive_class_probabilities >= threshold\n",
    "    f1 = f1_score(y_test == class_of_interest, predictions)\n",
    "    \n",
    "    # Append values to lists\n",
    "    threshold_values.append(threshold)\n",
    "    f1_scores.append(f1)\n",
    "\n",
    "# Find the index of the maximum F1 score\n",
    "best_threshold_index = np.argmax(f1_scores)\n",
    "\n",
    "# Retrieve the best threshold value\n",
    "best_threshold = threshold_values[best_threshold_index]\n",
    "\n",
    "# Plot the F1 scores against the thresholds\n",
    "plt.plot(threshold_values, f1_scores, marker='o', label='F1 Score')\n",
    "plt.xlabel('Threshold')\n",
    "plt.ylabel('F1 Score')\n",
    "plt.title('F1 Score vs. Threshold')\n",
    "plt.grid(True)\n",
    "# Highlight the point corresponding to the best threshold\n",
    "plt.scatter(best_threshold, f1_scores[best_threshold_index], color='red', label='Best Threshold', zorder=5)\n",
    "plt.legend()\n",
    "plt.savefig(\"figures/f1_score_optimum.png\")\n",
    "plt.show()\n",
    "# Print the best threshold value\n",
    "print(f\"Best Threshold: {best_threshold}\")"
   ]
  },
  {
   "cell_type": "code",
   "execution_count": 24,
   "id": "9d89abe2-6a2c-4838-8550-9d359c3fbb85",
   "metadata": {},
   "outputs": [
    {
     "data": {
      "text/plain": [
       "0.24000000000000002"
      ]
     },
     "execution_count": 24,
     "metadata": {},
     "output_type": "execute_result"
    }
   ],
   "source": [
    "best_threshold"
   ]
  },
  {
   "cell_type": "code",
   "execution_count": 25,
   "id": "52f850f5-44b8-4b27-9e2a-8eee0f5e5df0",
   "metadata": {},
   "outputs": [
    {
     "data": {
      "image/png": "[encoded data removed]",
      "text/plain": [
       "<Figure size 800x600 with 1 Axes>"
      ]
     },
     "metadata": {},
     "output_type": "display_data"
    }
   ],
   "source": [
    "X_test = test_df['Cleaned_Content']\n",
    "probabilities = pipeline.predict_proba(X_test)\n",
    "# Change the value below accordingly\n",
    "class_of_interest=2\n",
    "y_test = test_df['label'].map(label_mapping)\n",
    "# Get predicted probabilities on the training set using cross_val_predict\n",
    "predicted_probabilities = probabilities\n",
    "\n",
    "# Choose the class index you want to analyze (e.g., for 'civil')\n",
    "class_index = pipeline.named_steps['model'].classes_.tolist().index(class_of_interest)\n",
    "\n",
    "# Extract probabilities for the chosen class\n",
    "class_probabilities = predicted_probabilities[:, class_index]\n",
    "\n",
    "# Compute precision-recall curve\n",
    "precision, recall, thresholds = precision_recall_curve(y_test == class_of_interest, class_probabilities)\n",
    "\n",
    "# Compute area under the curve (AUC) for precision-recall curve\n",
    "pr_auc = auc(recall, precision)\n",
    "\n",
    "# Plot precision-recall curve\n",
    "plt.figure(figsize=(8, 6))\n",
    "plt.plot(recall, precision, label=f'Precision-Recall Curve (AUC = {pr_auc:.2f})')\n",
    "plt.xlabel('Recall')\n",
    "plt.ylabel('Precision')\n",
    "plt.title('Precision-Recall Curve for Class \"Civil\"')\n",
    "plt.legend()\n",
    "plt.show()"
   ]
  },
  {
   "cell_type": "markdown",
   "id": "9f42d7e2-426c-4a90-b4c5-b9ea3df140a1",
   "metadata": {
    "jp-MarkdownHeadingCollapsed": true
   },
   "source": [
    "## Precision-recall curve - finding optimum probability threshold"
   ]
  },
  {
   "cell_type": "code",
   "execution_count": 26,
   "id": "5d4e09af-b851-481b-af23-aca79eaf6b1f",
   "metadata": {},
   "outputs": [
    {
     "data": {
      "image/png": "[encoded data removed]",
      "text/plain": [
       "<Figure size 800x600 with 1 Axes>"
      ]
     },
     "metadata": {},
     "output_type": "display_data"
    },
    {
     "name": "stdout",
     "output_type": "stream",
     "text": [
      "Optimal Threshold: 0.30\n"
     ]
    }
   ],
   "source": [
    "# Set a minimum recall threshold\n",
    "min_recall_threshold = 0.75\n",
    "\n",
    "# Find the index of the threshold where recall is above the minimum threshold\n",
    "above_min_recall_indices = np.where(recall >= min_recall_threshold)\n",
    "optimal_threshold_index = above_min_recall_indices[0][-1]  # Select the highest recall index\n",
    "\n",
    "# Retrieve the optimal threshold\n",
    "optimal_threshold = thresholds[optimal_threshold_index]\n",
    "\n",
    "# Plot precision-recall curve with optimal threshold\n",
    "plt.figure(figsize=(8, 6))\n",
    "plt.plot(recall, precision, label=f'Precision-Recall Curve (AUC = {pr_auc:.2f})')\n",
    "plt.scatter(recall[optimal_threshold_index], precision[optimal_threshold_index], color='red', marker='o', label=f'Optimal Threshold = {optimal_threshold:.2f}')\n",
    "plt.xlabel('Recall')\n",
    "plt.ylabel('Precision')\n",
    "plt.title(f'Precision-Recall Curve for Class \"{class_of_interest}\" with Optimal Threshold (Min Recall Threshold = {min_recall_threshold})')\n",
    "plt.legend()\n",
    "plt.show()\n",
    "\n",
    "print(f'Optimal Threshold: {optimal_threshold:.2f}')\n"
   ]
  },
  {
   "cell_type": "markdown",
   "id": "87cc718c-b070-4c70-867f-0ec274fef622",
   "metadata": {},
   "source": [
    "## Definition of optimal threshold probabilities for each class "
   ]
  },
  {
   "cell_type": "markdown",
   "id": "7a90bc4d-1a9f-4fa3-b7ca-2989f8b3aef0",
   "metadata": {
    "jp-MarkdownHeadingCollapsed": true
   },
   "source": [
    "### Without one vs all"
   ]
  },
  {
   "cell_type": "code",
   "execution_count": 27,
   "id": "2bf25bdb-a5d5-4e31-9925-62483d3705ae",
   "metadata": {},
   "outputs": [
    {
     "name": "stderr",
     "output_type": "stream",
     "text": [
      "/tmp/ipykernel_5240/1019742136.py:30: RuntimeWarning: invalid value encountered in divide\n",
      "  f1_scores = 2 * (precision * recall) / (precision + recall)\n"
     ]
    }
   ],
   "source": [
    "from sklearn.model_selection import train_test_split\n",
    "from sklearn.linear_model import LogisticRegression\n",
    "from sklearn.multiclass import OneVsRestClassifier\n",
    "from sklearn.metrics import precision_recall_curve, auc\n",
    "import numpy as np\n",
    "\n",
    "X_train = train_df['Cleaned_Content']\n",
    "\n",
    "# Create an instance of OneVsRestClassifier with your model pipeline\n",
    "classifier = pipeline\n",
    "\n",
    "# Predict probabilities for each class on the test set\n",
    "y_probabilities = classifier.predict_proba(X_test)\n",
    "\n",
    "# Initialize dictionaries to store the optimal thresholds for each class\n",
    "optimal_thresholds = {}\n",
    "\n",
    "# Iterate over each class\n",
    "for i in range(len(classifier.classes_)):\n",
    "    class_label = classifier.classes_[i]\n",
    "\n",
    "    # Extract probabilities and true labels for the current class\n",
    "    class_probabilities = y_probabilities[:, i]\n",
    "    true_labels = (y_test == class_label).astype(int)\n",
    "\n",
    "    # Calculate precision-recall curve\n",
    "    precision, recall, thresholds = precision_recall_curve(true_labels, class_probabilities)\n",
    "\n",
    "    # Find the threshold that maximizes the F1 score\n",
    "    f1_scores = 2 * (precision * recall) / (precision + recall)\n",
    "    optimal_threshold = thresholds[np.argmax(f1_scores)]\n",
    "\n",
    "    # Store the optimal threshold for the current class\n",
    "    optimal_thresholds[class_label] = optimal_threshold\n",
    "\n",
    "# Use the optimal thresholds to make final predictions\n",
    "final_predictions = (y_probabilities > np.array(list(optimal_thresholds.values()))).astype(int)\n",
    "\n",
    "# Evaluate the performance of the final predictions"
   ]
  },
  {
   "cell_type": "code",
   "execution_count": 28,
   "id": "3459986e-3075-4475-843f-1ef3e20b832b",
   "metadata": {},
   "outputs": [
    {
     "name": "stdout",
     "output_type": "stream",
     "text": [
      "Classification Report:\n",
      "              precision    recall  f1-score   support\n",
      "\n",
      "           0       0.82      0.92      0.87      2619\n",
      "           1       0.96      0.96      0.96        81\n",
      "           2       0.00      0.00      0.00       459\n",
      "           3       0.97      0.99      0.98      2441\n",
      "\n",
      "   micro avg       0.89      0.88      0.88      5600\n",
      "   macro avg       0.69      0.72      0.70      5600\n",
      "weighted avg       0.82      0.88      0.85      5600\n",
      " samples avg       0.86      0.88      0.87      5600\n",
      "\n"
     ]
    },
    {
     "name": "stderr",
     "output_type": "stream",
     "text": [
      "/home/adelchiasta/venv/venv_doctrine/lib64/python3.11/site-packages/sklearn/metrics/_classification.py:1509: UndefinedMetricWarning: Precision is ill-defined and being set to 0.0 in labels with no predicted samples. Use `zero_division` parameter to control this behavior.\n",
      "  _warn_prf(average, modifier, f\"{metric.capitalize()} is\", len(result))\n",
      "/home/adelchiasta/venv/venv_doctrine/lib64/python3.11/site-packages/sklearn/metrics/_classification.py:1509: UndefinedMetricWarning: Precision is ill-defined and being set to 0.0 in samples with no predicted labels. Use `zero_division` parameter to control this behavior.\n",
      "  _warn_prf(average, modifier, f\"{metric.capitalize()} is\", len(result))\n"
     ]
    }
   ],
   "source": [
    "# Convert the multilabel format of y_test to a multilabel-indicator format\n",
    "y_test_multilabel = np.zeros_like(final_predictions)\n",
    "for i in range(len(classifier.classes_)):\n",
    "    y_test_multilabel[:, i] = (y_test == classifier.classes_[i]).astype(int)\n",
    "\n",
    "# Print classification report for each class in a multilabel-indicator format\n",
    "print(\"Classification Report:\")\n",
    "print(classification_report(y_test_multilabel, final_predictions, target_names=[str(label) for label in classifier.classes_]))"
   ]
  },
  {
   "cell_type": "markdown",
   "id": "a542843a-a1da-4bec-a64f-2c0f12d8713a",
   "metadata": {},
   "source": [
    "### With one vs all"
   ]
  },
  {
   "cell_type": "code",
   "execution_count": 29,
   "id": "11fbeec2-13c8-4ee2-8159-867a7abbec54",
   "metadata": {},
   "outputs": [
    {
     "name": "stderr",
     "output_type": "stream",
     "text": [
      "/home/adelchiasta/venv/venv_doctrine/lib64/python3.11/site-packages/sklearn/ensemble/_weight_boosting.py:519: FutureWarning: The SAMME.R algorithm (the default) is deprecated and will be removed in 1.6. Use the SAMME algorithm to circumvent this warning.\n",
      "  warnings.warn(\n",
      "/home/adelchiasta/venv/venv_doctrine/lib64/python3.11/site-packages/sklearn/ensemble/_weight_boosting.py:519: FutureWarning: The SAMME.R algorithm (the default) is deprecated and will be removed in 1.6. Use the SAMME algorithm to circumvent this warning.\n",
      "  warnings.warn(\n",
      "/home/adelchiasta/venv/venv_doctrine/lib64/python3.11/site-packages/sklearn/ensemble/_weight_boosting.py:519: FutureWarning: The SAMME.R algorithm (the default) is deprecated and will be removed in 1.6. Use the SAMME algorithm to circumvent this warning.\n",
      "  warnings.warn(\n",
      "/home/adelchiasta/venv/venv_doctrine/lib64/python3.11/site-packages/sklearn/ensemble/_weight_boosting.py:519: FutureWarning: The SAMME.R algorithm (the default) is deprecated and will be removed in 1.6. Use the SAMME algorithm to circumvent this warning.\n",
      "  warnings.warn(\n"
     ]
    }
   ],
   "source": [
    "from sklearn.model_selection import train_test_split\n",
    "from sklearn.linear_model import LogisticRegression\n",
    "from sklearn.multiclass import OneVsRestClassifier\n",
    "from sklearn.metrics import precision_recall_curve, auc\n",
    "import numpy as np\n",
    "\n",
    "X_train = train_df['Cleaned_Content']\n",
    "\n",
    "# Create an instance of OneVsRestClassifier with your model pipeline\n",
    "classifier = OneVsRestClassifier(pipeline)\n",
    "\n",
    "# Fit the model\n",
    "classifier.fit(X_train, y_train)\n",
    "\n",
    "# Predict probabilities for each class on the test set\n",
    "y_probabilities = classifier.predict_proba(X_test)\n",
    "\n",
    "# Initialize dictionaries to store the optimal thresholds for each class\n",
    "optimal_thresholds = {}\n",
    "\n",
    "# Iterate over each class\n",
    "for i in range(len(classifier.classes_)):\n",
    "    class_label = classifier.classes_[i]\n",
    "\n",
    "    # Extract probabilities and true labels for the current class\n",
    "    class_probabilities = y_probabilities[:, i]\n",
    "    true_labels = (y_test == class_label).astype(int)\n",
    "\n",
    "    # Calculate precision-recall curve\n",
    "    precision, recall, thresholds = precision_recall_curve(true_labels, class_probabilities)\n",
    "\n",
    "    # Find the threshold that maximizes the F1 score\n",
    "    f1_scores = 2 * (precision * recall) / (precision + recall)\n",
    "    optimal_threshold = thresholds[np.argmax(f1_scores)]\n",
    "\n",
    "    # Store the optimal threshold for the current class\n",
    "    optimal_thresholds[class_label] = optimal_threshold\n",
    "\n",
    "# Use the optimal thresholds to make final predictions\n",
    "final_predictions = (y_probabilities > np.array(list(optimal_thresholds.values()))).astype(int)\n",
    "\n",
    "# Evaluate the performance of the final predictions"
   ]
  },
  {
   "cell_type": "code",
   "execution_count": 31,
   "id": "53bbc81c-d1f8-4fe4-9037-9d63158d9fa2",
   "metadata": {},
   "outputs": [
    {
     "name": "stdout",
     "output_type": "stream",
     "text": [
      "Classification Report:\n",
      "              precision    recall  f1-score   support\n",
      "\n",
      "           0       0.91      0.93      0.92      2619\n",
      "           1       0.99      0.96      0.97        81\n",
      "           2       0.68      0.66      0.67       459\n",
      "           3       0.98      0.98      0.98      2441\n",
      "\n",
      "   micro avg       0.93      0.93      0.93      5600\n",
      "   macro avg       0.89      0.88      0.89      5600\n",
      "weighted avg       0.93      0.93      0.93      5600\n",
      " samples avg       0.90      0.93      0.91      5600\n",
      "\n"
     ]
    },
    {
     "name": "stderr",
     "output_type": "stream",
     "text": [
      "/home/adelchiasta/venv/venv_doctrine/lib64/python3.11/site-packages/sklearn/metrics/_classification.py:1509: UndefinedMetricWarning: Precision is ill-defined and being set to 0.0 in samples with no predicted labels. Use `zero_division` parameter to control this behavior.\n",
      "  _warn_prf(average, modifier, f\"{metric.capitalize()} is\", len(result))\n"
     ]
    }
   ],
   "source": [
    "# Convert the multilabel format of y_test to a multilabel-indicator format\n",
    "y_test_multilabel = np.zeros_like(final_predictions)\n",
    "for i in range(len(classifier.classes_)):\n",
    "    y_test_multilabel[:, i] = (y_test == classifier.classes_[i]).astype(int)\n",
    "\n",
    "# Print classification report for each class in a multilabel-indicator format\n",
    "print(\"Classification Report:\")\n",
    "print(classification_report(y_test_multilabel, final_predictions, target_names=[str(label) for label in classifier.classes_]))"
   ]
  },
  {
   "cell_type": "code",
   "execution_count": 33,
   "id": "33c4829d-10be-43cb-accc-87c63c79e5bf",
   "metadata": {},
   "outputs": [
    {
     "data": {
      "image/png": "[encoded data removed]",
      "text/plain": [
       "<Figure size 800x600 with 1 Axes>"
      ]
     },
     "metadata": {},
     "output_type": "display_data"
    }
   ],
   "source": [
    "# Choose a specific class for which you want to plot the precision-recall curve\n",
    "selected_class = 2 # Replace 'your_class_label' with the actual class label\n",
    "\n",
    "# Find the index of the selected class in the classifier.classes_\n",
    "class_index = np.where(classifier.classes_ == selected_class)[0][0]\n",
    "\n",
    "# Extract probabilities and true labels for the selected class\n",
    "class_probabilities = y_probabilities[:, class_index]\n",
    "true_labels = (y_test == selected_class).astype(int)\n",
    "\n",
    "# Calculate precision-recall curve for the selected class\n",
    "precision, recall, thresholds = precision_recall_curve(true_labels, class_probabilities)\n",
    "\n",
    "# Plot the precision-recall curve\n",
    "plt.figure(figsize=(8, 6))\n",
    "plt.plot(recall, precision, label='Precision-Recall Curve')\n",
    "plt.xlabel('Recall')\n",
    "plt.ylabel('Precision')\n",
    "plt.title(f'Precision-Recall Curve for Class: {selected_class}')\n",
    "plt.legend()\n",
    "plt.show()"
   ]
  },
  {
   "cell_type": "code",
   "execution_count": 34,
   "id": "6eb61283-22e1-46be-ae5d-94514681ab1f",
   "metadata": {},
   "outputs": [
    {
     "name": "stdout",
     "output_type": "stream",
     "text": [
      "Confusion Matrix:\n",
      "[[2541    0   58   20]\n",
      " [   4   76    0    1]\n",
      " [ 110    0  342    7]\n",
      " [  13    0    2 2426]]\n"
     ]
    },
    {
     "data": {
      "image/png": "[encoded data removed]",
      "text/plain": [
       "<Figure size 800x600 with 2 Axes>"
      ]
     },
     "metadata": {},
     "output_type": "display_data"
    },
    {
     "name": "stdout",
     "output_type": "stream",
     "text": [
      "Accuracy: 0.96\n",
      "Precision: 0.96\n",
      "Recall: 0.96\n",
      "F1 Score: 0.96\n"
     ]
    }
   ],
   "source": [
    "from sklearn import metrics\n",
    "import seaborn as sns\n",
    "\n",
    "y_true = test_df['label'].map(label_mapping)\n",
    "y_pred = classifier.predict(X_test)\n",
    "# Create confusion matrix\n",
    "cm = confusion_matrix(y_true, y_pred)\n",
    "\n",
    "# Print confusion matrix\n",
    "print(\"Confusion Matrix:\")\n",
    "print(cm)\n",
    "\n",
    "# Visualize confusion matrix with seaborn heatmap\n",
    "plt.figure(figsize=(8, 6))\n",
    "sns.heatmap(cm, annot=True, fmt=\"d\", cmap=\"Blues\", xticklabels=np.unique(y_true), yticklabels=np.unique(y_true))\n",
    "plt.title(\"Confusion Matrix\")\n",
    "plt.xlabel(\"Predicted\")\n",
    "plt.ylabel(\"True\")\n",
    "plt.show()\n",
    "\n",
    "# Additional metrics\n",
    "accuracy = metrics.accuracy_score(y_true, y_pred)\n",
    "precision = metrics.precision_score(y_true, y_pred, average='weighted')\n",
    "recall = metrics.recall_score(y_true, y_pred, average='weighted')\n",
    "f1_score = metrics.f1_score(y_true, y_pred, average='weighted')\n",
    "\n",
    "print(f\"Accuracy: {accuracy:.2f}\")\n",
    "print(f\"Precision: {precision:.2f}\")\n",
    "print(f\"Recall: {recall:.2f}\")\n",
    "print(f\"F1 Score: {f1_score:.2f}\")"
   ]
  },
  {
   "cell_type": "code",
   "execution_count": 39,
   "id": "49671bb2-a28b-474f-b537-f495f74b2bcf",
   "metadata": {},
   "outputs": [
    {
     "ename": "ValueError",
     "evalue": "masker cannot be None.",
     "output_type": "error",
     "traceback": [
      "\u001b[0;31m---------------------------------------------------------------------------\u001b[0m",
      "\u001b[0;31mValueError\u001b[0m                                Traceback (most recent call last)",
      "Cell \u001b[0;32mIn[39], line 16\u001b[0m\n\u001b[1;32m     13\u001b[0m     \u001b[38;5;28;01mreturn\u001b[39;00m inner_model\u001b[38;5;241m.\u001b[39mpredict_proba(input_data)\n\u001b[1;32m     15\u001b[0m \u001b[38;5;66;03m# Use the SHAP explainer\u001b[39;00m\n\u001b[0;32m---> 16\u001b[0m explainer \u001b[38;5;241m=\u001b[39m \u001b[43mshap\u001b[49m\u001b[38;5;241;43m.\u001b[39;49m\u001b[43mExplainer\u001b[49m\u001b[43m(\u001b[49m\u001b[43mmodel_predict\u001b[49m\u001b[43m)\u001b[49m\n\u001b[1;32m     18\u001b[0m \u001b[38;5;66;03m# Calculate SHAP values for a subset of data (e.g., the first 100 samples)\u001b[39;00m\n\u001b[1;32m     19\u001b[0m shap_values \u001b[38;5;241m=\u001b[39m explainer\u001b[38;5;241m.\u001b[39mshap_values(X_test\u001b[38;5;241m.\u001b[39msample(n\u001b[38;5;241m=\u001b[39m\u001b[38;5;241m100\u001b[39m))\n",
      "File \u001b[0;32m~/venv/venv_doctrine/lib64/python3.11/site-packages/shap/explainers/_explainer.py:182\u001b[0m, in \u001b[0;36mExplainer.__init__\u001b[0;34m(self, model, masker, link, algorithm, output_names, feature_names, linearize_link, seed, **kwargs)\u001b[0m\n\u001b[1;32m    180\u001b[0m \u001b[38;5;28;01melif\u001b[39;00m algorithm \u001b[38;5;241m==\u001b[39m \u001b[38;5;124m\"\u001b[39m\u001b[38;5;124mpermutation\u001b[39m\u001b[38;5;124m\"\u001b[39m:\n\u001b[1;32m    181\u001b[0m     \u001b[38;5;28mself\u001b[39m\u001b[38;5;241m.\u001b[39m\u001b[38;5;18m__class__\u001b[39m \u001b[38;5;241m=\u001b[39m explainers\u001b[38;5;241m.\u001b[39mPermutationExplainer\n\u001b[0;32m--> 182\u001b[0m     \u001b[43mexplainers\u001b[49m\u001b[38;5;241;43m.\u001b[39;49m\u001b[43mPermutationExplainer\u001b[49m\u001b[38;5;241;43m.\u001b[39;49m\u001b[38;5;21;43m__init__\u001b[39;49m\u001b[43m(\u001b[49m\u001b[38;5;28;43mself\u001b[39;49m\u001b[43m,\u001b[49m\u001b[43m \u001b[49m\u001b[38;5;28;43mself\u001b[39;49m\u001b[38;5;241;43m.\u001b[39;49m\u001b[43mmodel\u001b[49m\u001b[43m,\u001b[49m\u001b[43m \u001b[49m\u001b[38;5;28;43mself\u001b[39;49m\u001b[38;5;241;43m.\u001b[39;49m\u001b[43mmasker\u001b[49m\u001b[43m,\u001b[49m\u001b[43m \u001b[49m\u001b[43mlink\u001b[49m\u001b[38;5;241;43m=\u001b[39;49m\u001b[38;5;28;43mself\u001b[39;49m\u001b[38;5;241;43m.\u001b[39;49m\u001b[43mlink\u001b[49m\u001b[43m,\u001b[49m\u001b[43m \u001b[49m\u001b[43mfeature_names\u001b[49m\u001b[38;5;241;43m=\u001b[39;49m\u001b[38;5;28;43mself\u001b[39;49m\u001b[38;5;241;43m.\u001b[39;49m\u001b[43mfeature_names\u001b[49m\u001b[43m,\u001b[49m\u001b[43m \u001b[49m\u001b[43mlinearize_link\u001b[49m\u001b[38;5;241;43m=\u001b[39;49m\u001b[43mlinearize_link\u001b[49m\u001b[43m,\u001b[49m\u001b[43m \u001b[49m\u001b[43mseed\u001b[49m\u001b[38;5;241;43m=\u001b[39;49m\u001b[43mseed\u001b[49m\u001b[43m,\u001b[49m\u001b[43m \u001b[49m\u001b[38;5;241;43m*\u001b[39;49m\u001b[38;5;241;43m*\u001b[39;49m\u001b[43mkwargs\u001b[49m\u001b[43m)\u001b[49m\n\u001b[1;32m    183\u001b[0m \u001b[38;5;28;01melif\u001b[39;00m algorithm \u001b[38;5;241m==\u001b[39m \u001b[38;5;124m\"\u001b[39m\u001b[38;5;124mpartition\u001b[39m\u001b[38;5;124m\"\u001b[39m:\n\u001b[1;32m    184\u001b[0m     \u001b[38;5;28mself\u001b[39m\u001b[38;5;241m.\u001b[39m\u001b[38;5;18m__class__\u001b[39m \u001b[38;5;241m=\u001b[39m explainers\u001b[38;5;241m.\u001b[39mPartitionExplainer\n",
      "File \u001b[0;32m~/venv/venv_doctrine/lib64/python3.11/site-packages/shap/explainers/_permutation.py:51\u001b[0m, in \u001b[0;36mPermutationExplainer.__init__\u001b[0;34m(self, model, masker, link, feature_names, linearize_link, seed, **call_args)\u001b[0m\n\u001b[1;32m     48\u001b[0m np\u001b[38;5;241m.\u001b[39mrandom\u001b[38;5;241m.\u001b[39mseed(seed)\n\u001b[1;32m     50\u001b[0m \u001b[38;5;28;01mif\u001b[39;00m masker \u001b[38;5;129;01mis\u001b[39;00m \u001b[38;5;28;01mNone\u001b[39;00m:\n\u001b[0;32m---> 51\u001b[0m     \u001b[38;5;28;01mraise\u001b[39;00m \u001b[38;5;167;01mValueError\u001b[39;00m(\u001b[38;5;124m\"\u001b[39m\u001b[38;5;124mmasker cannot be None.\u001b[39m\u001b[38;5;124m\"\u001b[39m)\n\u001b[1;32m     53\u001b[0m \u001b[38;5;28msuper\u001b[39m()\u001b[38;5;241m.\u001b[39m\u001b[38;5;21m__init__\u001b[39m(model, masker, link\u001b[38;5;241m=\u001b[39mlink, linearize_link\u001b[38;5;241m=\u001b[39mlinearize_link, feature_names\u001b[38;5;241m=\u001b[39mfeature_names)\n\u001b[1;32m     55\u001b[0m \u001b[38;5;28;01mif\u001b[39;00m \u001b[38;5;129;01mnot\u001b[39;00m \u001b[38;5;28misinstance\u001b[39m(\u001b[38;5;28mself\u001b[39m\u001b[38;5;241m.\u001b[39mmodel, Model):\n",
      "\u001b[0;31mValueError\u001b[0m: masker cannot be None."
     ]
    }
   ],
   "source": [
    "import shap\n",
    "from sklearn.base import is_classifier\n",
    "\n",
    "# Assuming 'classifier' is your trained OneVsRestClassifier with an AdaBoost model inside\n",
    "# 'X_test' is your test data\n",
    "\n",
    "# Extract the inner AdaBoost model from the OneVsRestClassifier\n",
    "inner_model = classifier.estimators_[0]\n",
    "\n",
    "# Define a function that takes a single input and returns the model's predictions\n",
    "def model_predict(input_data):\n",
    "    # Assuming your input_data is a single sample or a batch of samples\n",
    "    return inner_model.predict_proba(input_data)\n",
    "\n",
    "# Use the SHAP explainer\n",
    "explainer = shap.Explainer(model_predict)\n",
    "\n",
    "# Calculate SHAP values for a subset of data (e.g., the first 100 samples)\n",
    "shap_values = explainer.shap_values(X_test.sample(n=100))\n",
    "\n",
    "# Summary Plot\n",
    "shap.summary_plot(shap_values, X_test.sample(n=100), feature_names=feature_names)\n"
   ]
  },
  {
   "cell_type": "code",
   "execution_count": null,
   "id": "9012f283-6e8e-4285-81fe-46e103c188ab",
   "metadata": {},
   "outputs": [],
   "source": [
    "# Dependence Plots (for selected features, e.g., the first three features)\n",
    "for feature_idx in range(3):\n",
    "    shap.dependence_plot(feature_idx, shap_values[1], X_test[:100], feature_names=feature_names)"
   ]
  },
  {
   "cell_type": "markdown",
   "id": "532b27f5-572e-45dc-a9d7-a0d563772241",
   "metadata": {
    "jp-MarkdownHeadingCollapsed": true
   },
   "source": [
    "## General metrics "
   ]
  },
  {
   "cell_type": "code",
   "execution_count": 28,
   "id": "3390b19a-fe49-46ed-ac6c-3a53a40e9c74",
   "metadata": {},
   "outputs": [
    {
     "name": "stdout",
     "output_type": "stream",
     "text": [
      "Accuracy: 0.90\n",
      "Precision: 0.89\n",
      "Recall: 0.90\n",
      "F1 Score: 0.89\n"
     ]
    }
   ],
   "source": [
    "from sklearn.metrics import precision_score\n",
    "from sklearn.metrics import recall_score\n",
    "\n",
    "# Get predicted probabilities on the test set\n",
    "probabilities = pipeline.predict_proba(X_test)\n",
    "\n",
    "# Choose the class with the highest probability as the predicted class for each instance\n",
    "predicted_classes = np.argmax(probabilities, axis=1)\n",
    "\n",
    "# Evaluate the performance using metrics appropriate for multiclass classification\n",
    "accuracy = accuracy_score(y_test, predicted_classes)\n",
    "precision = precision_score(y_test, predicted_classes, average='weighted')\n",
    "recall = recall_score(y_test, predicted_classes, average='weighted')\n",
    "f1 = f1_score(y_test, predicted_classes, average='weighted')\n",
    "\n",
    "print(f'Accuracy: {accuracy:.2f}')\n",
    "print(f'Precision: {precision:.2f}')\n",
    "print(f'Recall: {recall:.2f}')\n",
    "print(f'F1 Score: {f1:.2f}')\n"
   ]
  },
  {
   "cell_type": "code",
   "execution_count": 71,
   "id": "f5228301-9d1e-4ed5-856b-adaca2cb3080",
   "metadata": {},
   "outputs": [
    {
     "name": "stdout",
     "output_type": "stream",
     "text": [
      "Confusion Matrix:\n",
      "[[2489    0   97   33]\n",
      " [  12   69    0    0]\n",
      " [ 323    0  128    8]\n",
      " [ 104    0    2 2335]]\n"
     ]
    },
    {
     "data": {
      "image/png": "[encoded data removed]",
      "text/plain": [
       "<Figure size 800x600 with 2 Axes>"
      ]
     },
     "metadata": {},
     "output_type": "display_data"
    },
    {
     "name": "stdout",
     "output_type": "stream",
     "text": [
      "Accuracy: 0.90\n",
      "Precision: 0.89\n",
      "Recall: 0.90\n",
      "F1 Score: 0.89\n"
     ]
    }
   ],
   "source": [
    "from sklearn import metrics\n",
    "import seaborn as sns\n",
    "\n",
    "y_true = test_df['label'].map(label_mapping)\n",
    "y_pred = pipeline.predict(X_test)\n",
    "# Create confusion matrix\n",
    "cm = confusion_matrix(y_true, y_pred)\n",
    "\n",
    "# Print confusion matrix\n",
    "print(\"Confusion Matrix:\")\n",
    "print(cm)\n",
    "\n",
    "# Visualize confusion matrix with seaborn heatmap\n",
    "plt.figure(figsize=(8, 6))\n",
    "sns.heatmap(cm, annot=True, fmt=\"d\", cmap=\"Blues\", xticklabels=np.unique(y_true), yticklabels=np.unique(y_true))\n",
    "plt.title(\"Confusion Matrix\")\n",
    "plt.xlabel(\"Predicted\")\n",
    "plt.ylabel(\"True\")\n",
    "plt.show()\n",
    "\n",
    "# Additional metrics\n",
    "accuracy = metrics.accuracy_score(y_true, y_pred)\n",
    "precision = metrics.precision_score(y_true, y_pred, average='weighted')\n",
    "recall = metrics.recall_score(y_true, y_pred, average='weighted')\n",
    "f1_score = metrics.f1_score(y_true, y_pred, average='weighted')\n",
    "\n",
    "print(f\"Accuracy: {accuracy:.2f}\")\n",
    "print(f\"Precision: {precision:.2f}\")\n",
    "print(f\"Recall: {recall:.2f}\")\n",
    "print(f\"F1 Score: {f1_score:.2f}\")"
   ]
  },
  {
   "cell_type": "code",
   "execution_count": 251,
   "id": "99d1fc91-52d8-4e52-b6e3-00a7d64571a3",
   "metadata": {
    "scrolled": true
   },
   "outputs": [
    {
     "name": "stderr",
     "output_type": "stream",
     "text": [
      "C:\\Users\\Adelchi Jacques ASTA\\Documents\\Dev\\venv_test\\Lib\\site-packages\\sklearn\\ensemble\\_weight_boosting.py:519: FutureWarning: The SAMME.R algorithm (the default) is deprecated and will be removed in 1.6. Use the SAMME algorithm to circumvent this warning.\n",
      "  warnings.warn(\n",
      "C:\\Users\\Adelchi Jacques ASTA\\Documents\\Dev\\venv_test\\Lib\\site-packages\\sklearn\\ensemble\\_weight_boosting.py:519: FutureWarning: The SAMME.R algorithm (the default) is deprecated and will be removed in 1.6. Use the SAMME algorithm to circumvent this warning.\n",
      "  warnings.warn(\n",
      "C:\\Users\\Adelchi Jacques ASTA\\Documents\\Dev\\venv_test\\Lib\\site-packages\\sklearn\\ensemble\\_weight_boosting.py:519: FutureWarning: The SAMME.R algorithm (the default) is deprecated and will be removed in 1.6. Use the SAMME algorithm to circumvent this warning.\n",
      "  warnings.warn(\n",
      "C:\\Users\\Adelchi Jacques ASTA\\Documents\\Dev\\venv_test\\Lib\\site-packages\\sklearn\\ensemble\\_weight_boosting.py:519: FutureWarning: The SAMME.R algorithm (the default) is deprecated and will be removed in 1.6. Use the SAMME algorithm to circumvent this warning.\n",
      "  warnings.warn(\n"
     ]
    },
    {
     "data": {
      "image/png": "[encoded data removed]",
      "text/plain": [
       "<Figure size 1000x600 with 1 Axes>"
      ]
     },
     "metadata": {},
     "output_type": "display_data"
    }
   ],
   "source": [
    "# Assuming adaboost_classifier is already trained\n",
    "y_test = test_df['label'].map(label_mapping).copy()\n",
    "y_train = train_df['label'].map(label_mapping).copy()\n",
    "X_train = train_df['Cleaned_Content'].copy()\n",
    "# Convert labels to binary format (one-hot encoding)\n",
    "y_test_bin = label_binarize(y_test, classes=np.unique(y_train))\n",
    "\n",
    "# Fit the classifier using OneVsRest and predict probabilities\n",
    "classifier = OneVsRestClassifier(pipeline)\n",
    "y_score = classifier.fit(X_train, y_train).predict_proba(X_test)\n",
    "\n",
    "# Compute ROC curve and ROC area for each class\n",
    "fpr = dict()\n",
    "tpr = dict()\n",
    "roc_auc = dict()\n",
    "\n",
    "for i in range(len(label_mapping)):\n",
    "    fpr[i], tpr[i], _ = roc_curve(y_test_bin[:, i], y_score[:, i])\n",
    "    roc_auc[i] = auc(fpr[i], tpr[i])\n",
    "\n",
    "# Plot ROC curves\n",
    "plt.figure(figsize=(10, 6))\n",
    "\n",
    "for i in range(len(label_mapping)):\n",
    "    plt.plot(fpr[i], tpr[i], lw=2, label=f'Class {i} (AUC = {roc_auc[i]:.2f})')\n",
    "\n",
    "plt.plot([0, 1], [0, 1], linestyle='--', lw=2, color='black', label='Random', alpha=0.5)\n",
    "plt.xlabel('False Positive Rate')\n",
    "plt.ylabel('True Positive Rate')\n",
    "plt.title('Receiver Operating Characteristic (ROC) Curve for Multiclass')\n",
    "plt.legend(loc='lower right')\n",
    "# Apply tight layout\n",
    "plt.tight_layout()\n",
    "\n",
    "# Save the figure\n",
    "plt.savefig('roc_curve.png')\n",
    "plt.show()\n"
   ]
  },
  {
   "cell_type": "markdown",
   "id": "92c66013-b4d3-4267-882a-e9cb458b4fa1",
   "metadata": {},
   "source": [
    "### Checking some cases where predictions fail"
   ]
  },
  {
   "cell_type": "code",
   "execution_count": 32,
   "id": "984fa374-8a5c-4479-9119-9d9e246f2ffc",
   "metadata": {
    "scrolled": true
   },
   "outputs": [
    {
     "name": "stdout",
     "output_type": "stream",
     "text": [
      "True Label: 2, Predicted Label: 0\n",
      "Text:\n",
      "DU 20 Mars 2006 ------------------------- D.N/F.K S.A. CM CIC BAIL C/ Me Hélène X..., ès-qualités S.A. OCCITANE DE TRANSPORTS RG N : 04/01654 - A R R Ê T no 321/06 Prononcé à l'audience publique du vingt Mars deux mille six, par Jean-Louis BRIGNOL, Président de Chambre, assisté d'Isabelle LECLERCQ, Greffier LA COUR D'APPEL D'AGEN, 1ère Chambre dans l'affaire, ENTRE : S.A. CM CIC BAIL dont le siège social est 12 rue Gaillon 75002 PARIS agissant poursuites et diligences de son Président du Conseil d'Administration actuellement en fonctions domicilié en cette qualité audit siège représentée par la SCP HENRI TANDONNET, avoués assistée de la SCPA DELMOULY-GAUTHIER-THIZY, avocats APPELANTE d'une ordonnance rendue par le Juge Commissaire du Tribunal de Commerce d'AUCH en date du 1er Octobre 2004, No 2004/03797 D'une part, ET : Maître Hélène X... ès-qualités de liquidateur de la STE OCCITANE DE TRANSPORTS domiciliée ... 32000 AUCH représentée par Me Jean-Michel BURG, avoué S.A. OCCITANE DE TRANSPORTS prise en la personne de son représentant légal actuellement en fonctions domicilié en cette qualité au siège dont le siège social est 78 allée Jean Jaurès Le Pré Catelan Bâtiment F 31000 TOULOUSE N'ayant pas constitué avoué INTIMEES D'autre part, a rendu l'arrêt réputé contradictoire suivant après que la cause ait été communiquée au Ministère Public, débattue et plaidée en audience publique, le 20 Février 2006, devant Jean-Louis BRIGNOL, Président de Chambre, Dominique NOLET, Conseiller (laquelle, désignée par le Président de Chambre, a fait un rapport oral préalable) et Catherine LATRABE Conseiller, assistés d'Isabelle LECLERCQ, Greffier, et qu'il en ait été délibéré par les magistrats du siège ayant assisté aux débats, les parties ayant été avisées de la date à laquelle l'arrêt serait rendu. * * * Par ordonnance du 1er octobre 2004, le Juge Commissaire aux opérations de la liquidation judiciaire de la société OCCITANE DE TRANSPORTS a débouté la CM CIC BAIL de sa requête en relevé de forclusion. Par déclaration du 28 octobre 2004, dont la régularité n'est pas contestée, la SA CM CIC BAIL relevait appel de cette décision. Elle conclut à la réformation de cette ordonnance et demande l'inscription de sa créance au passif de la liquidation. Elle réclame encore la somme de 1.500 € en application de l'article 700 du Nouveau Code de Procédure Civile. Son adversaire sollicite la confirmation de l'ordonnance entreprise. Elle réclame encore la somme de 1.000 € sur le fondement de l'article 700 du Nouveau Code de Procédure Civile. La SA OCCITANE DE TRANSPORTS a fait l'objet d'un procès-verbal de recherches fructueuses. Vu les dernières conclusions de l'appelante en date du 7 novembre 2005 ; Vu les dernières conclusions de l'intimée en date du 17 octobre 2005 ; Vu les conclusions du Ministère Public en date du 26 décembre 2005. SUR QUOI La société FEDEBAIL a loué à la SA OCCITANE DE TRANSPORTS suivant deux contrats de crédit bail deux semi-remorques. La société FEDEBAIL a fait l'objet d'une fusion et la société CM CIC BAIL vient aujourd'hui à ses droits. Le 26 janvier 2004, une procédure de redressement judiciaire a été ouverte à l'encontre de la SA OCCITANE DE TRANSPORTS. Par courrier du 18 février 2004, la société CM CIC BAIL écrivait à Maître X... et effectuait une première déclaration de créance. Le 20 février 2004, Maître X... adressait à la société FEDEBAIL l'avertissement prévu par l'article 66 du décret du 27 décembre 1985. Le 30 mars 2004, le Tribunal de Commerce a converti le redressement judiciaire en liquidation. Par lettre recommandée expédiée le 2 juillet 2004 et reçue le 5 juillet 2005, la société CM CIC BAIL procédait à une nouvelle déclaration de créance au titre du dossier 43220 ST O ; Par courrier du 7 juillet 2004, Maître X... lui écrivait que sa déclaration était tardive. Le 9 juillet 2004, la société CM CIC BAIL saisissait alors le Juge Commissaire d'une demande d'inopposabilité de forclusion qui a été rejetée au motif que la société avait été régulièrement avisée par Maître X... de la procédure en cours. Pour contester cette ordonnance, l'appelante articule plusieurs moyens faisant valoir en premier lieu qu'elle avait devant le premier Juge soulevé l'inopposabilité de la forclusion et non un relevé de forclusion. Il résulte des pièces versées au débat que la procédure de redressement judiciaire a été ouverte par jugement du 26 janvier 2004 ; Aux termes de l'article L 621- 43 du Code de Commerce, à partir de la publication du jugement, tous les créanciers dont la créance a son origine antérieurement au jugement d'ouverture, adressent la déclaration de créance au représentant des créanciers. Aux termes de l'article L 621-46 du Code de Commerce, à défaut de déclaration dans les délais prescrits, les créanciers ne sont pas admis dans les répartitions. En l'espèce, il résulte des pièces versées au dossier, que la société CM CIC BAIL a effectué deux déclarations de créance, si la deuxième a été faite tardivement, la première a été faite dans les délais à savoir le 18 février 2004. Maître X... estime que le courrier adressé ce jour là en recommandé par la société CM CIC BAIL n'était qu'une demande d'information. Ceci est inexact. Ce courrier avait plusieurs feuillets, d'une part une première page informative. Mais sur la deuxième page figure un document clairement intitulé DECLARATION DE CREANCE A TITRE CHIROGRAPHAIRE AVEC POURSUITE DU CONTRAT. Il était joint à ce courrier les éléments justifiant de la créance à savoir une copie du contrat de crédit bail immobilier ainsi qu'une copie du bordereau de publicité. L'article L 641- 43 du Code de Commerce n'impose aucune forme spéciale à la production qui doit seulement résulter d'une déclaration claire, ce qui est le cas, accompagnée des éléments justificatifs de nature à en prouver le montant, ce qui est encore le cas. C'est dès lors à tort que Maître X..., ignorant les termes de cette première déclaration, a refusé d'admettre la créance de la société CM CIC BAIL qui n'a jamais été forclose, et ne relève pas du relevé de forclusion, mais de l'inopposabilité de celle-ci. La première décision sera en conséquence réformée. PAR CES MOTIFS La Cour, statuant publiquement, par arrêt réputé contradictoire et en dernier ressort, après en avoir délibéré conformément à la loi, Au fond, infirme l'ordonnance rendue le 1er octobre 2004 par le Juge Commissaire du Tribunal de Commerce d'AUCH, Statuant à nouveau, Constate l'inopposabilité de la forclusion invoquée par Maître X..., Ordonne l'inscription de la créance de la société CM CIC BAIL au passif de la liquidation pour le montant déclaré, Condamne Maître X..., ès-qualités, aux dépens de première instance et d'appel et autorise les avoués à les recouvrer conformément à l'article 699 du Nouveau Code de Procédure Civile. Dit n'y avoir lieu à application de l'article 700 du Nouveau Code de Procédure Civile. Le présent arrêt a été signé par Jean-Louis BRIGNOL, Président de Chambre et Isabelle LECLERCQ, Greffier, présente lors du prononcé. Le Greffier, Le Président,\n",
      "\n",
      "True Label: 2, Predicted Label: 0\n",
      "Text:\n",
      "COUR D'APPEL DE RIOM Chambre Commerciale v. d ORDONNANCE No- DU : 26 Juin 2008 N : 07 / 02928 (07 / 1211) CB ORDONNANCE rendue le vingt six Juin deux mille huit Par Nous, Claudine BRESSOULALY, Présidente de la chambre civile et commerciale de la cour d'appel de Riom déléguée pour les taxes conformément à l'ordonnance de madame la première présidente En présence de Mme C. GOZARD, Greffière SUR RECOURS contre CERTIFICAT DE VERIFICATION des DEPENS -ETAT DE FRAIS No07-0993 (RG 07 / 1211- TC) ENTRE : SA GROUPE LACTALIS 10 rue Adolphe Beck 53000 LAVAL représentant la SCP LEFRAIS RENARD DARDY avocat au barreau de ST BRIEUC Requérant ET : Me Martine-Marie Y...-avoué-... 63201 RIOM CEDEX défenderesse -copie requérant -copie G en C -grosse délivrée le à Me Y... Vu l'état de frais et émoluments réclamés par Maître Y..., avoué, le 21. 09. 2007 dans l'instance ayant donné lieu à l'arrêt rendu le 29. 06. 2007 par la Cour d'Appel de RIOM (affaire no07 / 01211). Vu la vérification effectuée le 04. 10. 2007 pour la somme de 39. 328, 21 euros par le greffier en chef Vu la contestation émise par la SA GROUPE LACTALIS suivant courrier du 22. 11. 2007 reçu au greffe le 26. 11. 2007. La requérante soutient que le magistrat taxateur n'a pas justifié le montant de l'émolument de base retenu dans le bulletin d'évaluation. Elle fait valoir que les neuf arrêts rendus le 29. 06. 2007 par la Cour d'Appel de RIOM reposent sur une motivation identique de sorte que l'avoué ne saurait obtenir pour chaque affaire un émolument proportionnel de base. Elle considère qu'il y a lieu d'établir un seul état de frais dont l'émolument proportionnel de base ne saurait excéder 2. 000 UB au vu de l'article 12 alinéa 1 du tarif. Elle conteste également l'application du coefficient de surmajoration d'un montant total de 0, 20 soit 0, 10 pour une procédure à jour fixe et 0, 10 pour incident de jonction. Elle prétend que seul l'avoué de l'appelant pourrait bénéficier de la surmajoration de 0, 10 pour procédure à jour fixe. Or Maître Y...n'était pas l'avoué de l'appelant. Elle ajoute qu'il ne résulte pas des écritures de Maître Y...qu'elle ait contesté la jonction sollicitée. Elle soutient enfin que le multiple de l'unité de base résultant de l'application de l'article 12 du tarif correspondait à un émolument global incluant tous les chefs de calcul. Vu les observations de Maître Y...du 09. 11. 2008 aux termes desquelles elle indique renoncer au coefficient de majoration de 10 % mais insiste pour que son état de frais soit établi en fonction d'un droit évaluable en unités de base de 9. 500 UB, équivalent à celui appliqué par ses confrères. Elle souligne avoir transmis tous ses états de frais à la SA GROUPE LACTALIS dont elle dénonce l'attitude dilatoire. Elle précise que cette société est d'abord restée taisante en attendant la limite du délai de contestation pour former son recours. Elle demande d'écarter l'argumentation de la SA GROUPE LACTALIS à l'encontre de laquelle elle rétorque avoir présenté des parties différentes selon les dossiers dont la jonction avait été demandée mais refusée par la Cour suivant arrêt en date du 13. 06. 2007. Compte tenu de l'importance et de la complexité des dossiers, de leur gestion en extrême urgence avec de nombreux jeux de conclusions échangés encore la veille de l'audience de plaidoiries, elle considère la rémunération proposée par le conseil de la SA GROUPE LACTALIS à hauteur de 2. 000 UB comme insultante, ne correspondant manifestement pas à l'importance et à la difficulté des procédures qui ont mobilisé tout le personnel de l'Etude, y compris en heures supplémentaires. * * * MOTIFS de la DÉCISION Attendu que par la Cour d'Appel de RIOM a rendu le 29 juin 2007 neuf arrêts se prononçant sur les appels formés contre chacun des jugements en date du 05. 05. 2007 emportant adoption par le tribunal de commerce de Clermont-Ferrand du plan de cession de chacune des neuf sociétés concernées ; que si ces sociétés composaient l'entité économique dite \" Groupe TOURY \", chacune d'elles présentait des particularités, bien mises en évidence lors de l'audience au cours de laquelle les procédures ont dû être examinées séparément ; que les conclusions déposées comme la lecture de la première partie de chacun des arrêts montrent les singularités de chacune des procédures en raison de l'intervention de parties différentes selon les affaires, et d'argumentations divergentes ; que la demande de la SA GROUPE LACTALIS tendant à voir établir une évaluation globale, nullement adaptée au cas d'espèce, ne repose sur aucun texte ; qu'elle sera rejetée comme étant non conforme au régime applicable en matière de tarification des avoués ; Attendu que la procédure relève incontestablement d'un litige non évaluable en argent au sens de l'article 12 dernier alinéa du décret du 30. 07. 1980 ; qu'en application de l'article 13 dudit décret, le multiple de l'unité de base prévu par l'article 12 est déterminé, eu égard à l'importance ou à la difficulté de l'affaire, par le Président de la formation de jugement ; que la combinaison du dernier alinéa de ce texte qui dispose que le droit à la taxe sur la détermination de ce multiple demeure réservé tant pour l'avoué que pour la partie et de l'article 711 du nouveau code de procédure civile, permet au juge statuant par ordonnance au vu du compte vérifié de procéder à tous les redressements nécessaires afin de rendre le compte conforme aux tarifs ; que la SA GROUPE LACTALIS critique le bulletin d'évaluation du 14. 09. 2007 ayant retenu un droit évaluable en unités de base de 11. 000 UB ; qu'il est indéniable que la présente procédure a imposé aux avoués un effort considérable de gestion dans des conditions exceptionnelles liées à la fois à l'extrême urgence compte tenu de l'importance des intérêts financiers, économiques, et sociaux en jeu et à la complexité des procédures, en raison du nombre d'intervenants comme des problèmes juridiques posés après l'entrée en vigueur de nouveaux textes donnant lieu à des interprétations doctrinales divergentes et impliquant des évolutions jurisprudentielles dans un domaine sensible ; Attendu que Maître Y..., renonçant à l'application des deux coefficients de majoration, accepte l'établissement de son état de frais sur un droit évaluable en unités de base réduit à 9. 500 UB ; qu'au vu des éléments spécifiques de la cause, cette demande est justifiée ; qu'il convient en conséquence de rectifier l'état de frais litigieux ainsi qu'il suit : - émolument proportionnel retenu HT25. 650, 00 € - total exonéré203, 22 € - total débours et copie HT43, 20 € - TVA Facturée à 19, 60 % 5. 035, 86 € NET A PAYER TTC 30. 932, 28 € PAR CES MOTIFS, Déclarons recevable et en partie fondée la contestation émise par la SA GROUPE LACTALIS à l'encontre de l'état de frais établi le 21. 09. 2007 par Maître Y.... Fixons à la somme de 30. 932, 28 € (TRENTE MILLE NEUF CENT TRENTE-DEUX EUROS VINGT-HUIT CENTIMES) le montant de l'état de frais de Maître Y.... CONDAMNONS Maître Y...aux entiers dépens. La greffièreLa présidente C. GozardC. Bressoulaly\n",
      "\n",
      "True Label: 0, Predicted Label: 2\n",
      "Text:\n",
      "ARRET N. RG N : 10/ 01196 AFFAIRE : Mme Pierrette X... veuve Y..., Melle Laurence Y..., M. Georges Y... C/ S. A. R. L. CARRIERES Z... GS/ MCM CESSION D'ENTREPRISE Grosse délivrée à SCP CHABAUD-DURAND-MARQUET, avoués COUR D'APPEL DE LIMOGES CHAMBRE CIVILE --- = = oOo = =--- ARRET DU 15 DECEMBRE 2011 --- = = = oOo = = =--- Le QUINZE DECEMBRE DEUX MILLE ONZE la CHAMBRE CIVILE a rendu l'arrêt dont la teneur suit par mise à la disposition du public au greffe : ENTRE : Madame Pierrette X... veuve Y... de nationalité Française, née le 28 Mars 1948 à SAINT JEAN LIGOURE (87260), Sans profession, demeurant...-87110 BOSMIE L'AIGUILLE représentée par la SCP CHABAUD DURAND MARQUET, avoués à la Cour, assistée de Me Jean VALIERE-VIALEIX, avocat au barreau de LIMOGES Mademoiselle Laurence Y... de nationalité Française, née le 28 Mars 1966 à LIMOGES (87100), Gendarme, demeurant...-87230 CHALUS représentée par la SCP CHABAUD DURAND MARQUET, avoués à la Cour, assistée de Me Jean VALIERE-VIALEIX, avocat au barreau de LIMOGES Monsieur Georges Y... de nationalité Française, né le 13 Août 1970 à LIMOGES (87100), Gérant de société, demeurant...-87920 CONDAT-SUR-VIENNE représenté par la SCP CHABAUD DURAND MARQUET, avoués à la Cour, assisté de Me Jean VALIERE-VIALEIX, avocat au barreau de LIMOGES APPELANTS d'un jugement rendu le 19 JUILLET 2010 par le TRIBUNAL DE COMMERCE DE LIMOGES ET : S. A. R. L. CARRIERES Z... dont le siège social est La Prune-36200 CEAULMONT représentée par la SCP COUDAMY Marie Christine-LATCHER, avoués à la Cour, assistée de Me Thierry DECRESSAT, avocat au barreau de CHATEAUROUX INTIMEE --- = = oO § Oo = =--- Selon calendrier de procédure du Conseiller de la Mise en Etat, l'affaire a été fixée à l'audience du 03 Novembre 2011 pour plaidoirie avec arrêt rendu le 1er Décembre 2011. L'ordonnance de clôture a été rendue le 21 septembre 2011. A l'audience de plaidoirie du 03 Novembre 2011, la Cour étant composée de Madame Martine JEAN, Président de chambre, de Monsieur Gérard SOURY et de Monsieur Serge TRASSOUDAINE, Conseillers, assistés de Madame Marie-Christine MANAUD, Greffier, Monsieur le Conseiller SOURY a été entendu en son rapport oral, Maître VALIERE-VIALEIX et Maître DECRESSAT, avocats, ont été entendus en leur plaidoirie. Puis Madame Martine JEAN, Président de chambre, a donné avis aux parties que la décision serait rendue le 15 Décembre 2011 par mise à disposition au greffe de la cour, après en avoir délibéré conformément à la loi. --- = = oO § Oo = =--- LA COUR --- = = oO § Oo = =--- FAITS et PROCÉDURE Henri Y..., qui exploitait de son vivant une carrière de quartz au lieu-dit \" Luchapt \" sur la commune de Magnac Laval (87) a cédé l'exploitation de cette carrière à la société Carrières Z... (la société Z...) suivant protocole du 18 février 1999. La société Z... a cessé l'exploitation de cette carrière en avril 2007. Soutenant que la société Z... n'avait pas respecté les termes du protocole du 18 février 1999, Henri Y... a saisi le juge des référés du tribunal de grande instance de Limoges qui a ordonné, le 11 janvier 2008, une expertise confiée à M. A...lequel a déposé son rapport le 30 mai 2008. Henri Y... étant décédé, ses héritiers, Mme Pierrette B..., veuve Y..., Mlle Laurence Y... et M. Georges Y... (les consorts Y...) ont assigné la société Z... devant le tribunal de commerce de Limoges pour la voir condamner à leur payer diverses sommes au titre du quartz extrait, de la valeur du stock de quartz entreposé sur une parcelle de terre voisine de la carrière, de redevances impayées et à la remise en état du site. La société Z... s'est opposée à ces prétentions et elle a formé une demande reconventionnelle en paiement d'une somme correspondant aux travaux de remise en état des lieux. Par jugement du 19 juillet 2010, le tribunal de commerce a notamment : - condamné la société Z... à payer aux consorts Y... la somme de 6 000 euros au titre de la redevance due pour l'année 2007, - condamné la société Z... à la remise en état de chemins, - rejeté les autres demandes des consorts Y..., - rejeté la demande reconventionnelle de la société Z..., - ordonné l'exécution provisoire. Les consorts Y... ont relevé appel de ce jugement. MOYENS et PRÉTENTIONS Les consorts Y... réclament : -77 924 euros au titre du quartz extrait dont le prix a été unilatéralement diminué par la société Z..., -50 000 euros au titre du stock de quartz entreposé par la société Z... sur la parcelle no 874, - la condamnation sous astreinte de la société Z... à libérer ladite parcelle, - la confirmation du jugement en ce qu'il a condamné la société Z... à leur payer 6 000 euros au titre de la redevance due pour l'année 2007, - la condamnation de la société Z... à leur payer 18 000 euros à titre d'indemnité d'occupation pour les années 2008, 2009 et 2010, - la fixation d'une astreinte pour garantir l'exécution par la société Z... des travaux de remise en état des chemins, - la condamnation de la société Z... à leur payer 30 000 euros de dommages-intérêts. La société Z... conclut à la confirmation du jugement sauf en ce qu'il a prononcé des condamnations à son encontre (redevance 2007 et remise en état des chemins) et en ce qu'il a rejeté sa demande reconventionnelle. Appelante incidente sur ces points, la société Z... fait valoir que la redevance annuelle de 6 000 euros n'est pas due à compter de l'année 2007 incluse du fait de la cessation de l'exploitation de la carrière et que l'inspection des mines a considéré que le site avait été remis en état de manière satisfaisante. La société Z... réclame le paiement de la somme de 41 495, 22 euros correspondant au coût de ses travaux de remise en état de parcelles périphériques. MOTIFS Attendu que par arrêté du 22 avril 1977, le préfet de la Haute-Vienne a donné à Henri Y... l'autorisation d'exploiter la carrière située sur sa parcelle cadastrée section H no 289, commune de Magnac Laval, pour une durée de trente ans ; que l'exploitation de cette carrière, cédée à la société Z... suivant protocole du 18 février 1999, s'est poursuivie jusqu'au 5 avril 2007, date à laquelle cette société a informé le préfet de l'arrêt définitif de l'exploitation. Sur la demande des consorts Y... au titre des factures. Attendu que le protocole du 18 février 1999 par lequel Henri Y... a cédé l'exploitation de sa carrière à la société Z... stipule les prix du quartz, à savoir : - 1er choix extrait et stocké : 150 francs (soit 22, 87 euros) la tonne, représentant environ 2 000 à 3 000 tonnes, - 1er choix à extraire : 80 francs (soit 12, 20 euros) la tonne, - 2ème choix à extraire : 40 francs (soit 6, 10 euros) la tonne, représentant environ 8 000 à 10 000 tonnes. Attendu que les consorts Y... demandent la condamnation de la société Z... à leur payer une somme de 77 924 euros au titre du quartz extrait, en soutenant que cette société a contraint Henri Y... à accepter une diminution de prix du quartz. Mais attendu que, devant l'expert judiciaire, Henri Y... a reconnu avoir consenti à une baisse de 50 % du prix convenu pour le 1er choix qui a été ramené à 6, 10 euros ainsi qu'à une \" réduction exceptionnelle de 25 % pour participation au décape \" faite par \" avoir \" sur les factures des 4ème trimestre 2003 et 1er trimestre 2004 et qui ont donné lieu à l'établissement de sa part de factures rectificatives ; que la preuve n'est pas rapportée de l'existence de pressions de la part de la société Z... pour contraindre Henri Y... à consentir à ces réductions de prix ; qu'en l'absence de preuve d'un vice du consentement d'Henri Y... les réductions de prix qu'il a acceptées ne peuvent être remises en cause et c'est donc à juste titre que les premiers juges ont rejeté la demande des consorts Y... en paiement d'un rappel sur le prix du quartz facturé. Sur la demande des consorts Y... en paiement de la redevance et d'une indemnité d'occupation. Attendu que le protocole d'accord du 18 février 1999 stipule que la société Z... s'engage à payer une redevance minimale de 40 000 francs, soit 6 098 euros, par année, qui sera récupérée sur la facture de l'année suivante, jusqu'à l'expiration de l'autorisation administrative d'exploitation ou de la fin du gisement. Attendu que les consorts Y... réclament le paiement de cette redevance pour l'année 2007 ainsi qu'une somme annuelle d'un montant équivalent à titre d'indemnité d'occupation pour les années 2008, 2009 et 2010, soit 6 000 euros x 3 = 18 000 euros. Mais attendu que, s'agissant de l'année 2007, les consorts Y... ne peuvent prétendre au paiement de la redevance que sur la période comprise entre le 1er janvier et le 22 avril 2007, date d'expiration de l'autorisation préfectorale d'exploitation, étant observé que la société Z... n'invoque aucun épuisement du gisement antérieurement à cette dernière date ; qu'il leur sera alloué à ce titre, prorata temporis, une somme de 1 450 euros au titre de la redevance due par la société Z... pour cette période de l'année 2007. Attendu, s'agissant de la période postérieure au 22 avril 2007, que la société Z... a continué d'occuper la parcelle no 289 d'Henri Y... pour les besoins de sa remise en état, convenue au protocole d'accord du 18 février 1999 ; que les constats d'huissier des 20 août 2007 et 9 octobre 2007 font notamment état de la présence sur place d'engins de travaux ; que l'inspection des carrières a constaté que le site était remis en état et sécurisé à la date du 18 octobre 2007 ; que rien ne permet d'affirmer que la société Z... a continué à occuper les lieux après cette date ; que s'agissant d'une occupation temporaire (du 23 avril au 18 octobre 2007) justifiée par l'obligation contractuelle incombant à la société Z... de remettre le site en état et de le sécuriser, elle ne peut donner lieu qu'à l'allocation aux consorts Y..., héritiers d'Henri Y..., d'une indemnité limitée au montant de 600 euros. Sur la demande des consorts Y... au titre du stock de quartz entreposé sur la parcelle no 874. Attendu que les consorts Y... demandent la condamnation de la société Z... à leur payer la somme de 50 000 euros au titre du stock de quartz entreposé par la société Z... sur la parcelle no 874. Mais attendu que les consorts Y... ne rapportent pas la preuve que la société Z... a procédé à l'extraction des minéraux en cause et à leur stockage sur la parcelle no 874 qui n'est pas concernée par le protocole d'accord du 18 février 1999 ; que la société Z... ne reconnaît pas expressément dans ses écritures être à l'origine de ce stockage ; qu'en outre, ce stock de quartz n'est pas revendiqué par la société Z..., en sorte qu'il demeure la propriété des consorts Y... qui ne peuvent prétendre au paiement de sa valeur. Sur la remise en état des lieux. 1) La demande des consorts Y.... Attendu que le protocole d'accord du 18 février 1999 stipule qu'\" à la fin de l'exploitation, la société Z... laissera l'emplacement des stockages nivelés et les terres excédentaires seront mises dans le trou de la parcelle carrière. La société Z... s'engage à entretenir les chemins, prend la responsabilité des dégâts qui pourraient être causés à la ligne électrique, à l'adduction d'eau et au chemin communal qui va jusqu'au village \". Attendu, s'agissant du site de la carrière, qu'aux termes de son procès-verbal de recolement du 18 octobre 2007 l'inspecteur des carrières a constaté que les travaux de remise en état et de sécurisation du site avaient été effectués et il a considéré que ces travaux étaient satisfaisants ; que l'avis contraire exprimé par la mairie de Magnac-Laval sur ce point n'est pas de nature à remettre en cause l'appréciation de l'inspection des carrières plus directement compétente en la matière ; qu'il n'est pas justifié par les consorts Z... de l'état exact du site à la date d'entrée dans les lieux de la société Z... qui pourrait caractériser une insuffisance des travaux de remise en état ; qu'il n'y a donc pas lieu de mettre à la charge de la société Z... d'autres travaux de remise en état et de sécurisation. Attendu, s'agissant de la remise en état des chemins que la société Z... s'est engagée à entretenir, que l'expert a constaté que le chemin conduisant à la carrière est très défoncé, situation également constatée par Me C..., huissier de justice, qui, dans son procès-verbal du 4 mai 2004, note la présence d'ornières, de trous et de \" nids de poule \" ; que les consorts Y... ne rapportant pas la preuve de la dégradation d'autres chemins par la société Z..., cette dernière ne sera condamnée qu'à la remise en état du seul chemin d'accès à la carrière dans le délai de deux mois à compter de la signification du présent arrêt, et ce sous astreinte de 50 euros par jour de retard passé ce délai. Attendu, s'agissant de la parcelle no 874 contiguë à la carrière, que les consorts Y... ne rapportent pas la preuve que la société Z... a procédé au stockage des minéraux sur ce site qui n'est pas concerné par le protocole d'accord du 18 février 1999 ; que cette société ne reconnaît pas expressément dans ses écritures être à l'origine de ce stockage ; que la demande des consorts Y... tendant à la remise en état de cette parcelle sera rejetée. 2) La demande reconventionnelle de la société Z.... Attendu que cette société Z... réclame le remboursement par les consorts Y... de la somme de 41 495, 22 euros qu'elle a déboursée pour la remise en état des parcelles no 62 et 234 en périphérie de la carrière. Mais attendu que la société Z... ne justifie d'aucune demande de la part de Henri Y... ou de ses héritiers de remise en état de ces parcelles qui ne sont pas concernées par le protocole d'accord du 18 février 1999 ; que le chef de décision rejetant la demande de la société Z... sera donc confirmé. Sur la demande de dommages-intérêts des consorts Y.... Attendu que les seuls griefs qui peuvent être reprochés à la société Z... se limitent à l'encombrement de la carrière après la cessation de son exploitation et le défaut de remise en état des chemins ; que le préjudice en résultant pour les consorts Z... a déjà été réparé par l'allocation de dommages-intérêts au titre de l'occupation du terrain et par la condamnation, sous astreinte, de la société Z... à remettre en état le chemin d'accès à la carrière ; que les consorts Y..., qui ne justifient pas d'un préjudice distinct au titre de ces fautes qui n'aurait pas reçu réparation, ne peuvent prétendre à l'allocation de dommages-intérêts complémentaires. Sur l'article 700 du code de procédure civile. Attendu que l'équité ne justifie pas l'application de ce texte. --- = = oO § Oo = =--- PAR CES MOTIFS --- = = oO § Oo = =--- LA COUR Statuant par décision Contradictoire, mise à disposition au greffe, en dernier ressort et après en avoir délibéré conformément à la loi ; CONFIRME le jugement rendu par le tribunal de commerce de Limoges le 19 juillet 2010, sauf en ses dispositions : - condamnant la société Carrières Z... à payer aux consorts Y... la somme de 6 000 euros correspondant au loyer des parcelles occupées au titre de l'année 2007 ; - condamnant la société Carrières Z... à remettre en état tant les chemins d'accès aux parcelles que celui desservant la lentille d'eau ; - rejetant la demande d'indemnisation des consorts Y... au titre de l'occupation du site de la carrière ; Statuant à nouveau de ces chefs, CONDAMNE la société Carrières Z... à payer à Mme Pierrette B..., veuve Y..., à Mlle Laurence Y... et à M. Georges Y... : - une somme globale de 1 450 euros au titre de la redevance due pour la période comprise entre le 1er janvier 2007 et le 22 avril 2007, - une somme globale de 600 euros au titre de l'indemnisation de l'occupation du site de la carrière pour la période comprise entre le 23 avril 2007 et le 18 octobre 2007 ; CONDAMNE la société Carrières Z... à remettre en état le chemin d'accès à la carrière dans le délai de deux mois à compter de la signification du présent arrêt, et ce sous astreinte de 50 euros par jour de retard passé ce délai ; DIT n'y avoir lieu à application de l'article 700 du code de procédure civile ; CONDAMNE la société Carrières Z... aux dépens et accorde à la SCP Chabaud Durand-Marquet, avoué, le bénéfice de l'article 699 du code de procédure civile. LE GREFFIER, LE PRESIDENT, Marie-Christine MANAUD. Martine JEAN.\n",
      "\n",
      "True Label: 2, Predicted Label: 0\n",
      "Text:\n",
      "COUR D'APPEL DE NÎMES DEUXIÈME CHAMBRE Section B- COMMERCIALE ARRÊT DU 04 MAI 2006 ARRÊT No 240 Magistrat Rédacteur : M. ESPEL / DDP R. G : 04 / 00344 TRIBUNAL DE COMMERCE D'AVIGNON 19 décembre 2003 S. A. S INTERFERTIL FRANCE C / SCI DU REAL APPELANTE : S. A. S INTERFERTIL FRANCE, nouvelle dénomination sociale de la SA RENO, prise en la personne de ses représentants légaux en exercice, domiciliés en cette qualité au siège social, 251 Boulevard Pereire 75017 PARIS représentée par la SCP POMIES- RICHAUD- VAJOU, avoués à la Cour assistée de la SCP RAMBAUD MARTEL, avocats au barreau de PARIS, Me Yves SCHMIDT, avocat au barreau de PARIS INTIMÉE : SCI DU REAL, prise en la personne de son gérant en exercice, domicilié en cette qualité au siège social, Mas bouteille Chemin de Douau 13410 LAMBESC représentée par la SCP GUIZARD- SERVAIS, avoués à la Cour assistée de la SCP W. J. L. & R. LESCUDIER, avocats au barreau de MARSEILLE ORDONNANCE DE CLÔTURE rendue le 17 Février 2006 COMPOSITION DE LA COUR LORS DES DÉBATS ET DU DÉLIBÉRÉ : Monsieur Raymond ESPEL, Président, Monsieur Bruno BERTRAND, Conseiller, Madame Catherine BR1SSY- PROUVOST, Conseiller, ont entendu les plaidoiries et en ont ensuite délibéré conformément à la loi. GREFFIER : Mme Dominique RIVOALLAN, Greffier, lors des débats et du prononcé de la décision DÉBATS : à l'audience publique du 15 Mars 2006, où l'affaire a été mise en délibéré au 04 Mai 2006, Les parties ont été avisées que l'arrêt sera prononcé par sa mise à disposition au greffe de la cour d'appel ; ARRÊT : Arrêt contradictoire, prononcé et signé par Monsieur Raymond ESPEL, Président, publiquement, le 04 Mai 2006, date indiquée à l'issue des débats, par mise à disposition au greffe de la Cour Vu l'ordonnance rendue le 10 Septembre 2002 sur assignation de la SCI DU REAL, propriétaire du site industriel du REALPANIER et par laquelle le juge des référés du Tribunal de Commerce d'AVIGNON a : - déclaré bien fondée la fin de non- recevoir tirée par la Société Anonyme RENO, dernier locataire du site du REALPANIER, de l'existence d'une contestation sérieuse ; - décliné sa compétence pour connaître de la demande présentée par la SCI DU REAL, bailleresse et tendant à faire condamner la Société Anonyme RENO, locataire, au versement d'une provision de 1. 000. 000 € HT à valoir sur l'indemnisation du préjudice subi en raison du défaut de restitution du site industriel du REALPANIER ; - renvoyé les parties à se pourvoir devant le juge du fond ; - dit n'y a voir lieu à référé ; Vu l'assignation au fond devant le Tribunal de Commerce d'AVIGNON, en date du 19 Février 2003, délivrée à la requête de la SCI DU REAL et tendant notamment à : - faire constater \" que la S. A. RENO n'a pas toujours restitué complètement et juridiquement les lieux dont la SCI DU REAL est propriétaire et pour lesquels elle a donné congé pour le 30 Septembre 1993 \" ; - faire \" déclarer que la restitution ne pourra être déclarée acceptable que sur justification de l'aval des services de la DRIRE quant aux travaux réalisés et de sa notification à la SCI DU REAL, la restitution ne s'entendant que par une libre jouissance sans aucune contrainte \" ; - faire condamner la Société Anonyme RENO au paiement de dommages- intérêts en réparation du préjudice subi à la suite du défaut de restitution du site du REALPANIER ; - faire condamner la Société Anonyme RENO à lui payer \" pour la période allant du 1er Octobre 1993 au trentième jour suivant la signification du présent jugement une indemnité annuelle d'occupation de 76 225 € HT \" ; - faire condamner la Société Anonyme RENO à lui payer \" pour la période à compter du trentième jour après la signification du présent jugement une astreinte mensuelle de 18 500 € HT jusqu'à parfaite restitution des locaux \" ; Vu les conclusions en défense déposées le 12 Septembre 2003 et soutenues à l'audience de plaidoirie du 24 Octobre 2003 et par lesquelles la Société Anonyme RENO a notamment demandé au premier juge : - de rejeter comme non fondés tous les moyens de fait et de droit présentés par la SCI DU REAL ; - de débouter la SCI DU REAL de ses demandes principales ; - de déclarer recevables ses demandes reconventionnelles ; - de juger qu'elle a supporté la charge de travaux de dépollution dont elle n'était nullement à l'origine ; - de condamner reconventionnellement la SCI DU REAL à lui rembourser la somme de 535 023, 87 € représentant le coût des opérations de dépollution industrielle ; Vu le jugement rendu contradictoirement le 19 Décembre 2003 par le Tribunal de Commerce d'AVIGNON et qui notamment : - a jugé que la Société Anonyme RENO était le dernier exploitant du site industriel du REALPANIER au sens des dispositions de la loi n° 76-663 du 19 Juillet 1976 ; - a jugé que les travaux de dépollution industrielle du site industriel du REALPANIER incombaient à la Société Anonyme RENO ; - a constaté que la Société Anonyme RENO connaissait dès le dépôt du rapport AIRMES en 1995 l'exacte nature de la pollution du site industriel du REALPANIER ainsi que le type et le coût des opérations de dépollution ; - a jugé que pour des motifs économiques la Société Anonyme RENO a retardé la dépollution du site industriel du REALPANIER ; - a jugé qu'en retardant la dépollution du site industriel du REALPANIER, la Société Anonyme RENO a causé un préjudice à la SCI DU REAL ; - a débouté la Société Anonyme RENO de sa demande reconventionnelle à l'encontre de la SCI DU REAL comme étant mal fondée ; - a jugé que le coût des travaux de dépollution du site industriel du REALPANIER n'incombait nullement à la SCI DU REAL mais au dernier exploitant, à savoir la Société Anonyme RENO et ce, par application des dispositions de la loi n° 76-663 du 19 Juillet 1976 ; - a constaté que \" la S. A. RENO n'a toujours pas restitué complètement et juridiquement les lieux dont la SCI DU REAL est propriétaire et pour lesquels elle a donné congé pour le 30 Septembre 1993 \" ; - a \" déclaré que la restitution ne pourra être déclarée acceptable que sur justification de l'aval des services de la DRIRE quant aux travaux réalisés et de sa notification à la SCI DU REAL, la restitution ne s'entendant que par une libre jouissance sans aucune contrainte \" ; - a condamné la Société Anonyme RENO à lui payer \" pour la période allant du 1er Octobre 1993 au trentième jour suivant la signification du présent jugement une indemnité annuelle d'occupation de 76 225 € HT \" ; - a condamné la Société Anonyme RENO à lui payer \" pour la période à compter du trentième jour après la signification du présent jugement une astreinte mensuelle de 18 500 € HT jusqu'à parfaite restitution des locaux \" ; - a débouté la Société Anonyme RENO de ses demandes reconventionnelles à l'encontre de la SCI DU REAL ; - a condamné la Société Anonyme RENO à verser à la SCI DU REAL une somme de 10 000 Euros par application des dispositions de l'article 700 du Nouveau Code de Procédure Civile ; - a ordonné l'exécution provisoire ; - a condamné la Société Anonyme RENO aux dépens ; Vu l'appel interjeté le 22 Janvier 2004 par la Société Anonyme RENO à l'encontre du jugement du 19 Décembre 2003 et enrôlé sous le numéro 04-344 ; Vu l'ordonnance n° 04 / 15 rendue le 27 Février 2004 par le Premier Président et qui a ordonné la consignation par la Société Anonyme RENO de la somme de 790 834 € à la CARPA DE NIMES ; Vu les dernières conclusions récapitulatives en date du 1er Février 2006, auxquelles il convient de se référer pour un plus ample exposé des faits, prétentions et moyens et par lesquelles la Société Anonyme RENO désormais dénommée SAS INTERFERTIL FRANCE, appelante, demande notamment à la Cour : - de déclarer recevable son appel ; - de constater que le jugement déféré est \" la copie servile des conclusions de la SCI DU REAL \" ; - d'annuler la décision déférée ; - à titre subsidiaire, d'infirmer la décision déférée dans toutes ses dispositions ; - de rejeter comme non fondés les moyens de fait et de droit invoqués par la SCI DU REAL ; - de juger que la pollution du site industriel du REALPANIER ne lui est pas imputable ; - de juger qu'elle a restitué le 6 Septembre 1994 le site industriel du REALPANIER à la SCI DU REAL ; - de juger qu'elle a restitué le site industriel du REALPANIER à la SCI DU REAL dans l'état où elle les a reçu ; - de juger qu'elle n'est nullement responsable d'une quelconque privation de jouissance qu'aurait pu subir la SCI DU REAL ; - de juger que la SCI DU REAL ne démontre aucune faute qu'elle aurait pu commettre, ni aucun préjudice ; - de débouter la SCI DU REAL de toutes ses demandes ; - d'ordonner la déconsignation à son profit des sommes dont la consignation a été ordonnée par l'ordonnance du Premier Président ; - de faire droit à sa demande reconventionnelle ; - de condamner la SCI DU REAL à lui rembourser le coût de la dépollution du site industriel du REALPANIER, outre les intérêts moratoires ; - de lui donner acte de ce qu'elle se réserve le droit d'augmenter ses demandes au titre du \" coût du suivi de la qualité des eaux grâce aux piézomètres installés sur le site qui lui est imposé par l'arrêté préfectoral du 2 Août 2001 \" ; - de lui allouer une somme de 20 000 Euros par application des dispositions de l'article 700 du Nouveau Code de Procédure Civile ; - de condamner la SCI DU REAL aux entiers dépens avec distraction de ceux d'appel au profit de la Société Civile Professionnelle POMIES- RICHAUD- VAJOU, titulaire d'un office d'avoué ; Vu le bordereau de communication des pièces annexé aux écritures déposées le 1er Février 2006 par la Société SAS INTERFERTIL FRANCE ; Vu les dernières conclusions récapitulatives en date du 8 Février 2006, auxquelles il convient de se référer pour un plus ample exposé des faits, prétentions et moyens et par lesquelles la SCI DU REAL, intimée, demande notamment à la Cour : - de confirmer la décision déférée dans toutes ses dispositions ; - de rejeter comme non fondés tous les moyens de fait et de droit invoqués par la Société SAS INTERFERTIL FRANCE ; - de débouter la Société SAS INTERFERTIL FRANCE de toutes ses prétentions ; - de juqer que la Société Anonyme RENO a la qualité de dernier exploitant du site industriel du REALPANIER au sens des dispositions de la loi n° 76-663 du 19 Juillet 1976 ; - de juqer que la Société Anonyme RENO a eu un comportement fautif en retardant pendant 9 ans la dépollution du site industriel du REALPANIER ; - de constater que les travaux de dépollution n'ont commencé que 9 ans après le congé du 2 Octobre 1992 avec effet au 30 Septembre 1993 ; - de juger que ce retard à exécuter les travaux de dépollution lui a causé un préjudice ; - de condamner la Société SAS INTERFERTIL FRANCE à lui payer \" au titre de l'indemnisation globale du préjudice subi selon le décompte susmentionné pour la période du 1 / 10 / 1993 au 31 / 5 / 2004 la somme de 2 040 832, 72 € HT \" ; - de lui allouer une somme de 20 000 Euros par application des dispositions de l'article 700 du Nouveau Code de Procédure Civile ; - de condamner la Société SAS INTERFERTIL FRANCE aux entiers dépens dont distraction de ceux d'appel au profit de la Société Civile Professionnelle GUIZARD- SERVAIS, titulaire d'un office d'avoué ; Vu le bordereau de communication de pièces annexé aux écritures déposées le 08 Février 2006 par la SCI DU REAL ; Vu la clôture de la mise en état de la procédure ; MOTIFS DE LA DÉCISION *) Sur la recevabilité de l'appel interjeté par la Société Anonyme RENO désormais dénommée SAS INTERFERTIL FRANCE : Attendu que la recevabilité de l'appel interjeté par la Société Anonyme RENO désormais dénommée \" SAS INTERFERTIL FRANCE \" n'est ni contestée ni contestable ; *) Sur la nullité du jugement déféré : Attendu que la Société SAS INTERFERTIL FRANCE n'est pas fondée à invoquer la nullité du jugement déféré au motif que cette décision serait \" la copie servile des conclusions de la SCI DU REAL \" ; Attendu qu'il est de principe que tout jugement doit être motivé (premier alinéa in fine de l'article 455 du Nouveau Code de Procédure Civile) ; Attendu que la Cour constate en l'espèce : - que le premier juge a motivé la décision déférée ; - que la reprise de certains passages des conclusions des parties est une technique de motivation qui ne méconnaît nullement les dispositions de l'article 455 du Nouveau Code de Procédure Civile ; - que les moyens de droit et de fait retenus par le premier juge pour motiver sa décision sont compréhensibles ; *) Sur la SCI DU REAL, demanderesse devant le premier juge et intimée : Attendu que la SCI DU REAL, propriétaire du site industriel du REALPANIER et qui alléguait d'une part le bail du 8 Janvier 1979 et d'autre part l'absence de restitution de ce site faute de dépollution, était : - demanderesse devant le juge des référés du Tribunal de Commerce d'AVIGNON qui s'est déclaré incompétent pour connaître de sa demande de provision d'un montant de 1 000 000 € à valoir sur l'indemnisation de son préjudice ; - demanderesse au fond devant le Tribunal de Commerce d'AVIGNON et aux mêmes fins et sur le fondement des dispositions de l'article 1134 du Code Civil ; Attendu que la SCI DU REAL, propriétaire du site industriel du REALPANIER, a été constituée en 1981 par les membres des familles A... / B... ; Attendu que le 19 Novembre1981, la société SEE, alors contrôlée par les familles A... / B... a cédé à la SCI DU REAL, constituée par les membres de ces mêmes familles, les biens immobiliers constituant le site industriel du REALPANIER ; Attendu que la SCI DU REAL, contrôlée par les membres des familles A... / B... qui ont contrôlé ou dirigé eux- mêmes les sociétés SMPCA AGRICOLA, SIR et SEE, premiers exploitants du site industriel du REALPANIER est ainsi devenue le propriétaire de ce site où la Société Anonyme RENO, filiale du Groupe ROULLIER a exploité l'activité de production d'engrais chimiques, et ce, jusqu'en 1992 en qualité de preneur à bail des tènernents immobiliers ; *) Sur la Société SAS INTERFERTIL FRANCE, anciennement dénommée \" RENO \", appelante : Attendu que la Société Anonyme RENO avait la qualité de défenderesse tant devant le juge des référés que devant le Tribunal de Commerce d'AVIGNON, saisi au fond ; Attendu qu'en l'état des écritures et des pièces des parties, il n'est ni contesté ni contestable : - que la nouvelle dénomination de la Société Anonyme RENO, filiale du GROUPE ROULLIER, est désormais \" SAS INTERFERTIL FRANCE \" ; - que la Société Anonyme RENO, désormais dénommée \" SAS INTERFERTIL FRANCE \" vient partiellement aux droits et obligations de la Société SUD EST ENGRAIS (SEE) en raison d'une fusion- absorption du 31 Octobre 1990 ; - que la société SUD- EST ENGRAIS (SEE) est venue elle- même partiellement aux droits et obligations de la SOCIETE INDUSTRIELLE REALPANIER (SIR) par l'effet d'un traité d'apport en date du 8 Janvier 1979 d'une branche d'activité ; - que la SOCIETE INDUSTRIELLE REALPANIER (SIR) est venue elle aussi partiellement aux droits et obligations de la SOCIETE ANONYME MERIDIONALE DE PRODUITS CHIMIQUES AGRICOLA (SMPCA AGRICOLA) ; Attendu que la SOCIETE ANONYME MERIDIONALE DE PRODUITS CHIMIQUES AGRICOLA (SMPCA AGRICOLA), constituée le 20 Mai 1901, était une société familiale dont l'objet social était la fabrication de produits chimiques et engrais destinés à l'agriculture ; que la société SMPCA AGRICOLA exploitait son activité sur le site industriel du REALPANIER ; que jusqu'en 1959, la société SMPCA AGRICOLA a produit de l'acide sulfurique, utilisée pour la fabrication des engrais, à partir de pyrites de fer ; Attendu que les membres des familles A... / B... étaient les actionnaires ou les dirigeants sociaux de la société SMPCA AGRICOLA ; Attendu qu'en 1977, les membres des familles A... / B... et la société SMPCA AGRICOLA ont constitué la SOCIETE INDUSTRIELLE REALPANIER (SIR) à laquelle la société SMPCA AGRICOLA a apporté sa branche d'activité de production des engrais chimiques ainsi que le site industriel du REALPANIER ; Attendu qu'en Janvier 1979, la SOCIETE INDUSTRIELLE REALPANIER (SIR), présidée par Monsieur Jean A... et les membres des familles A... / B... ont constitué la société SUD- EST ENGRAIS (SEE) à laquelle la société SIR a apporté sa branche d'activité de production d'engrais chimiques, à l'exclusion des biens immobiliers dans lesquels était exploitée cette activité ; Attendu que le 8 Janvier 1979, la société SIR contrôlée par les familles A... / B... et bailleresse, a donné à bail commercial à la société SEE, également contrôlée par les familles A... / B..., preneuse, les biens immobiliers constituant le site industriel du REALPANIER ; Attendu qu'en 1984, la Société DUCLOS a pris le contrôle de la société SEE ; Attendu qu'en 1989, la société TIMAC, filiale du groupe ROULLIER, a pris le contrôle de la société SEE, qui a été absorbée par la Société RENO, autre filiale de ce même groupe ; Attendu qu'en novembre 1984, la Société SMPCA AGRICOLA a absorbé la Société SIR ; *) Sur la demande principale dont saisine de la Cour : Attendu qu'en l'état de la rédaction de ses conclusions et des actes de la procédure d'appel, la SCI DU REAL sollicite en réalité non pas la fixation d'une indemnité mensuelle ou annuelle d'occupation du site industriel du REALPANIER mais l'indemnisation de son préjudice consécutif au défaut de dépollution du site industriel du REALPANIER et qui l'a privé de la libre disposition de son bien immobilier ; que la SCI DU REAL sollicite le versement d'une indemnité de 2 440 840, 71 € ; *) Sur la demande reconventionnelle de la Société SAS INTERFERTIL FRANCE : Attendu que la Société SAS INTERFERTIL FRANCE sollicite à titre reconventionnel et au visa des dispositions des articles 1730 et suivants du Code Civil le remboursement par la SCI DU REAL de la totalité des frais de dépollution, à savoir la somme de 535 023, 87 € TTC ; qu'elle demande en outre qu'il lui soit donné acte de ce qu'elle se réserve le droit d'augmenter sa demande au titre du \" coût du suivi de la qualité des eaux grâce aux piézomètres installés sur le site, qui lui est imposé par l'arrêté préfectoral du 2 Août 2001 \" ; *) Sur la demande principale présentée par la SCI DU REAL et tendant au versement d'une indemnité de 2 440 840, 71 € : Attendu qu'en l'état de la rédaction de ses écritures, la Société SAS INTERFERTIL FRANCE ne conteste nullement être liée par le bail du 8 Janvier 1979, à l'origine signé entre la société SIR et la société SEE ; Attendu que ni la Société SAS INTERFERTIL FRANCE ni la SCI DU REAL ne contestent le \" congé commercial \" donné le 2 Octobre 1992 avec effet au 30 Septembre 1993 ; Attendu qu'en l'état des débats, il n'est pas sérieusement contestable : - qu'au 30 Septembre 1993, la Société Anonyme RENO avait cessé toute activité industrielle sur le site du REALPANIER ; - qu'au 27 Juillet 1994, la Société Anonyme RENO avait cessé d'être présente sur le site industriel du REALPANIER, qui était vide de tout occupant ou de tout matériel de fabrication ; - que le 27 Juillet 1994, la Société Anonyme RENO a remis à la SCI DU REAL les clés du site industriel du REALPANIER ; - que la Société Anonyme RENO avait cependant accès au site industriel du REALPANIER pour les besoins de la dépollution ; Attendu que les dispositions de la loi n° 76-663 du 19 Juillet 1976 met à la charge du dernier exploitant la dépollution des sites industriels, et ce, quelle que soit l'origine ou l'ancienneté de la pollution industrielle ; Attendu qu'il n'est pas contestable que la Société Anonyme RENO a la qualité de dernier exploitant du site industriel du REALPANIER, et ce au sens des dispositions de la loi n° 76-663 du 19 Juillet 1976 ; Attendu qu'il incombait donc à la Société Anonyme RENO de procéder à la dépollution du site industriel du REALPANIER et de son coût et ce, au sens de la loi n° 76-663 du 19 Juillet 1976 ; Attendu qu'en l'état des débats, il n'est pas contestable : - que les travaux de dépollution du site industriel du REALPANIER n'ont commencé que plus de 9 ans après que la Société Anonyme RENO a cessé toute activité industrielle sur ce site et déménagé ses installations ; - que deux arrêtés préfectoraux dont celui en date du 2 Août 2001 ont été nécessaires pour provoquer et contrôler la dépollution du site industriel du REALPANIER ; - que dès le dépôt du rapport AIRMES en 1995, la Société Anonyme RENO avait connaissance de la nature des pollutions industrielles dont elle aurait à assurer la dépollution par application des dispositions de la loi n° 76-663 du 19 Juillet 1976 ; - que dès le dépôt du rapport AIRMES en 1995, la Société Anonyme RENO connaissait le coût prévisible des opérations de dépollution du site industriel du REALPANIER ; - que les travaux de dépollution n'ont été effectués que 9 ans après l'envoi du congé du 2 octobre 2002 et après la cessation de toute activité industrielle sur le site du REALPANIER ; - que pendant 9 ans, la SCI DU REAL n'a pas eu la libre disposition de son bien en raison de l'absence de dépollution industrielle et ce, bien que le site du REALPANIER ait été vidé de toute occupation industrielle ; Attendu qu'en ne procédant aux travaux de dépollution du site industriel du REALPANIER que 9 ans après le congé du 2 Octobre 1992, la SA RENO a eu un comportement fautif au préjudice de la SCI DU REAL et a méconnu ainsi l'obligation contractuelle stipulée à l'alinéa 2 de l'article 2 du bail du 8 Janvier 1979 ; qu'il y a lieu de relever à cet égard : - que la Société Anonyme RENO, industriel de la chimie, savait pertinemment qu'elle aurait à dépolluer le site industriel du REALPANIER, et ce lorsqu'elle a pris la décision d'arrêter la production d'engrais chimiques ; - que dès 1995, la Société Anonyme RENO avait à sa dispositions une étude technique, le rapport AIRMES, sur les pollutions du site industriel du REALPANIER ; - que les difficultés techniques réelles de la dépollution du site industriel du REALPANIER ne sont pas suffisantes à exonérer totalement la Société Anonyme RENO de sa responsabilité contractuelle ; - que la Société Anonyme RENO a été négligente dans la dépollution du site industriel du REALPANIER qui lui incombait ; - que les prétendues lenteurs administratives, à supposer qu'elles soient partiellement vraies, ne sont pas suffisantes à elles seules à exonérer la Société Anonyme RENO de sa responsabilité ; - que la Société Anonyme RENO devait, en sa qualité de dernier exploitant, dépolluer le site industriel du REALPANIER ; - qu'en ne dépolluant pas le site industriel de façon plus rapide et en obérant ainsi temporairement toute possibilité pour la SCI DU REAL de disposer de son bien librement, la Société Anonyme RENO a commis une faute contractuelle ; - que la Société Anonyme RENO a violé son obligation contractuelle de respecter les réglementations en vigueur telle que stipulée par l'alinéa 2 de l'article 2 du bail du 8 Janvier 1979 ; - qu'en sa qualité de dernier exploitant, la Société Anonyme RENO avait l'obligation de dépolluer le site industriel du REALPANIER et ce, par application de la loi n° 76-663 du 19 Juillet 1976 ; - que la Société Anonyme RENO a mis 9 ans à procéder aux opérations de dépollution et a ainsi privé la SCI DU REAL de la libre disposition de son bien immobilier ; - que la circonstance que la Société Anonyme RENO n'ait effectivement plus occupé le site industriel du REALPANIER ne l'exonérait pas de son obligation légale de dépolluer le site et de son obligation contractuelle de l'article 2 alinéa 2 du bail du 8 Janvier 1979 ; - que la Société Anonyme RENO aurait pu faire dépolluer plus rapidement le site industriel du REALPANIER ; Attendu qu'il y a lieu en conséquence de chiffrer à la somme de 50 000 € le préjudice subi par la SCI DU REAL et de réduire en conséquence le montant des dommages- intérêts alloués par le premier juge ; qu'il y a lieu de relever à cet égard : - que les associés de la SCI DU REAL sont les membres des familles A... / B... qui étaient les associés des sociétés à l'origine de la pollution à la pyrite de fer ; - que lorsque la Société Anonyme RENO est entrée dans les lieux en 1989, le site industriel du REALPANIER était déjà pollué par la pyrite de fer ; - que la Société Anonyme RENO n'a jamais utilisé les mêmes procédés chimiques que les sociétés PMCA AGRICOLA, SIR et SEE ont utilisé et qui sont à l'origine de la pollution industrielle affectant le site industriel du REALPANIER et qui obérait la libre disposition de ces biens immobiliers ; - que cependant et après la dépollution faite à la charge de la Société Anonyme RENO, la SCI DU REAL a repris un bien immobilier totalement dépollué et ce, alors même qu'avait été donné à bail un site industriel très pollué ; - que les associés de la SCI DU REAL n'ignoraient nullement l'état de pollution du site industriel du REALPANIER ni que la pollution de site avait pour origine les activités industrielles des sociétés SMPCA AGRICOLA, SIR et SEE dont ils avaient les associés ou les dirigeants sociaux ; - que si la SCI DU REAL avait vendu son bien immobilier du REALPANIER en 1993, 1994 ou 1995, elle n'en aurait pas tiré le même prix qu'en 2005 et n'aurait pas bénéficié de la hausse particulièrement importante des terrains situés au PONTET ; - que les associés de la SCI DU REAL n'ignoraient nullement que les travaux de dépollution industrielle sont des opérations à la fois coûteuses et longues ; - que l'intérêt bien compris des associés de la SCI DU REAL était que la Société Anonyme RENO fasse, à ses frais, la dépollution du site ; - que jamais la SCI DU REAL n'a saisi le juge aux fins de se faire autoriser à dépolluer le site en urgence aux lieu et place de la Société Anonyme RENO ; Attendu qu'il y a lieu en conséquence de confirmer par substitution partielle de motifs la décision déférée en : - relevant que la Société SAS INTERFERTIL FRANCE a eu un comportement fautif au préjudice de la SCI DU REAL ; - relevant que le comportement fautif de Société SAS INTERFERTIL FRANCE a causé un préjudice à la SCI DU REAL ; - ramenant à la somme de 50. 000 € le montant des dommages- intérêts initialement alloués à la SCI DU REAL par le premier juge ; *) Sur la demande reconventionnelle présentée par la Société SAS INTERFERTIL FRANCE à l'encontre de la SCI DU REAL : Attendu que la Société SAS INTERFERTIL FRANCE n'est nullement fondée à solliciter la condamnation de la SCI DU REAL d'une part au remboursement des factures déjà payées de dépollution et d'autre part au coût du suivi de la qualité des eaux ; Attendu qu'aux termes des dispositions de la loi n° 76-663 du 19 Juillet 1976, la charge de la dépollution d'un site industriel incombe au dernier exploitant et non pas au propriétaire du bien pollué ; Attendu que la Société SAS INTERFERTIL FRANCE ne verse aux débats aucun document écrit d'où il résulterait que la SCI DU REAL se serait engagé, en sa qualité de bailleur, à prendre en charge tout ou partie des frais de dépollution ; qu'il y a lieu de relever à ce égard : - que la Société SAS INTERFERTIL FRANCE était un professionnel de l'industrie chimique ; - que lors de sa prise de possession du site industriel du REALPANIER en 1989, la Société SAS INTERFERTIL FRANCE n'ignorait nullement les dispositions de la loi n° 76-663 du 19 Juillet 1976 ; - que le bail du 8 Janvier 1979 ne mettait nullement à charge du bailleur la totalité ou une partie des frais de dépollution ; - qu'aucun avenant au bail du 8 Janvier 1979 n'a stipulé que la charge des frais de dépollution au sens des dispositions de la loi n° 76-663 du 19 Juillet 1976 serait transférée au bailleur ; Attendu qu'il y a lieu en conséquence de confirmer la décision déférée ; en ce le premier juge a débouté la Société Anonyme RENO de sa demande reconventionnelle ; *) Sur l'application des dispositions de l'article 700 du Nouveau Code de Procédure Civile : Attendu que l'équité ne commande pas de faire application en l'espèce des dispositions de l'article 700 du Nouveau Code de Procédure Civile ; *) Sur les dépens : Attendu qu'il y a lieu de faire masse des dépens qui seront supportés par moitié par chacune des parties qui succombent respectivement sur certains chefs de leurs prétentions principales ou reconventionnelles ; PAR CES MOTIFS, La Cour, statuant publiquement par décision contradictoire, DECLARE recevable l'appel interjeté par la Société Anonyme RENO désormais dénommée SAS INTERFERTIL FRANCE ; AU FOND CONFIRME par substitution partielle de motifs la décision déférée dans toutes ses dispositions sauf à réduire à la somme de 50. 000 € le montant des dommages- intérêts que la Société SAS INTERFERTIL FRANCE devra verser à la SCI DU REAL en réparation du préjudice subi ; DIT qu'il sera procédé, après exécution du présent arrêt, à la déconsignation des sommes détenues à la CAISSE DES AVOUES DE NÎMES en exécution de l'ordonnance n° 04 / 15 du 27 Février 2004 ; DIT n'y avoir lieu à application de l'article 700 du Nouveau Code de Procédure Civile ; FAIT masse des dépens d'appel qui seront supportés par moitié par chacune des parties et autorise en tant que de besoin les Sociétés Civiles Professionnelles POMIES- RICHAUD- VAJOU et GUIZARD- SERVAIS, titulaires d'offices d'avoué, à en recouvrer le montant aux formes et conditions de l'article 699 du Nouveau Code de Procédure Civile.\n",
      "\n",
      "True Label: 2, Predicted Label: 0\n",
      "Text:\n",
      "Chambre Commerciale Arrêt No R.G : 05/01685 BOURGEOIS WASSY Société VYDIS C/ Société MILHAC SUD COUR D'APPEL DE SAINT-DENIS CHAMBRE COMMERCIALE ARRÊT DU 27 NOVEMBRE 2006 Appel d'une décision rendue par le TRIBUNAL DE GRANDE INSTANCE A COMPETENCE COMMERCIALE DE ST PIERRE en date du 08 MARS 2005 suivant déclaration d'appel en date du 12 AVRIL 2005 rg no 04/347 APPELANTS : Monsieur Yannick X... ... 97430 TAMPON Madame Valérie Y... épouse X... ... 97430 TAMPON Représentant : LA SELAS POITRASSON (avocat au barreau de SAINT-PIERRE) Société VYDIS prise en la personne de son gérant en exercice 50 Rue des Bons Enfants 97410 ST PIERRE Représentant : LA SELAS POITRASSON (avocat au barreau de SAINT-PIERRE) Me Christophe Z..., es qualités de mandataire liquidateur de la Société VYDIS Non comparant INTIMEE : Société MILHAC SUD 7 Rue Charles Darwin Zac 2000 97420 LE PORT Représentant : Me Iqbal A... (avocat au barreau de SAINT-DENIS) CLOTURE LE : 22 septembre 2006 DÉBATS : en application des dispositions des articles 785 et 786 du nouveau code de procédure civile, l'affaire a été débattue à l'audience publique du 02 Octobre 2006 devant Mme Gilberte PONY, conseiller rapporteur, assisté de Mme Annick PICOT, agent administratif faisant fonction de greffier, les parties ne s'y étant pas opposées. Ce magistrat a indiqué, à l'issue des débats, que l'arrêt sera prononcé, par sa mise à disposition au greffe le 27 Novembre 2006. Il a été rendu compte des plaidoiries dans le délibéré de la Cour, composée de : Monsieur François CREZE, Président de Chambre Monsieur Yves BLOT, Conseiller Madame Gilberte PONY, Conseiller Rapporteur Qui en ont délibéré Arrêt : prononcé publiquement par sa mise à disposition des parties le 27 Novembre 2006. Greffier : Mme Annick PICOT, agent administratif faisant fonction de greffier. ************** Par contrat en date du 24 Juin 2002, la Société MILHAC SUD a donné en location-gérance à la Société VYDIS un fonds de commerce exploité sous l'enseigne \" VOGUE \"dans un local situé au n o122, Rue Raymond VERGES à Saint-Louis, moyennant une redevance mensuelle fixe de 1 830 euros et une redevance variable équivalente à 10 % du chiffre d'affaires hors taxes ; Les époux X... se sont portés cautions solidaires du paiement de la redevance de la location-gérance et des loyers du local ; Le contrat de location-gérance a été résilié le 30 Juin 2004 ; ************** Suivant Déclaration enregistrée au Greffe de la Cour le 12 Avril 2005, la Société VYDIS , Yannick X... et Valérie Y... épouse X... ont interjeté appel d'un jugement rendu le 8 Mars 2005 par le Tribunal de Grande Instance de Saint-Pierre, statuant en matière commerciale, qui a : Rejeté les demandes de renvoi devant une autre juridiction et de sursis à statuer présentées par la Société VYDIS et les époux X... ; Condamné solidairement la Société VYDIS et les époux X... à payer à la Société MILHAC SUD la somme de 214 518,68 euros avec intérêts au taux de 15 % l'an à compter du 1er Octobre 2004 ; Condamné la Société VYDIS à payer à la Société MILHAC SUD la somme de 7 000 euros à titre de dommages-intérêts ; Condamné la Société VYDIS , sous astreinte de 300 euros par jour de retard, passé le délai de 8 jours à compter de la signification du jugement, à remettre à la Société MILHAC SUD : les registres légaux d'entrée et de sortie ; les duplicatas et accusés de réception de déclaration préalable à l'embauche ou toute autre preuve de cette déclaration ; les doubles des bulletins de paye depuis la prise en location-gérance jusqu'à sa cessation ; le registre des observations et mises en demeure de l'inspecteur du travail ; le registre médical regroupant les documents relatifs à la Médecine du travail, notamment aux visites médicales ; le registre d'hygiène et de sécurité qui regroupe les consignes relatives aux essais et exercices priodiques de sécurité et aux vérifications pèriodiques de sécurité ; tous les documents concernant le personnel, l'assurance, la sécurité, d'une manière générale toutes les pièces sinhérentes à l'activité du magasin ainsi que toutes ls déclarations de TVA et les quitus du Trésor du paiement de tous les impôts jusqu'au 18 Juillet 2004 inclus liés à l'exploitation du fonds, ainsi que les bilans et ses annexes depuis le début de l'exploitation au 30 Juin 2004 ou à défaut, l'édition des balances générales des comptes ; Ordonné l'exécution provisoire du jugement ; Condamné la Société VYDIS à payer à la Société MILHAC SUD la somme de 2 000 euros au titre de l'article 700 du Nouveau Code de Procédure civile ; Condamné la Société VYDIS aux dépens ; Les appelants n'ayant pas déposé leurs conclusions dans les 4 mois de la Déclaration d'appel, l'affaire a été radiée par ordonnance du Président de Chambre en date du 26 Août 2005 ; Par conclusions du 31 Août 2005, la Société MILHAC SUD, intimée, a sollicité la remise de l'affaire au rôle et son renvoi à l'audience publique pour qu'elle soit jugée au vu des éléments de première instance ; Par jugement du 27 septembre 2005, la Société VYDIS était placée en liquidation judiciaire ; par acte d'huissier en date du 12 Décembre 2005, la Société MILHAC SUD faisait assigner en intervention, Me Z... ès-qualités de mandataire-liquidateur de la Société VYDIS ; bien que l'assignation ait été délivrée à sa personne, Me Z... n'a pas constitué avocat ; L'ordonnance de clôture est intervenue le 22 Septembre 2006 ; le présent arrêt est réputé contradictoire en application de l'article 473 du Nouveau Code de procédure civile . ************** La Société MILHAC SUD sollicite la confirmation du jugement entrepris et réclame paiement de la somme de 1 500 euros au titre de l'article 700 du Nouveau Code de Procédure civile . ************** MOTIFS DE LA DECISION Attendu que la Société MILHAC SUD justifie de la déclaration en date du 11 Octobre 2005 d'une créance de 227 752,10 euros entre les mains de Me Z..., représentant des créanciers dans la procédure de liquidation judiciaire ouverte à l'encontre de la Société VYDIS ; que l'instance, suspendue par le jugement de liquidation judiciaire peut donc être reprise ; A) Sur la demande en production des pièces relatives à l'embauche de salariés de la Société VYDIS Attendu que l'ouverture de la procédure de liquidation judiciaire implique la transmission de tous les documents de la Société JUBLYM au mandataire-liquidateur ; qu'il n'est fait état d'aucun incident relatif à un éventuel refus communication de ces pièces par le mandataire-liquidateur ; que la demande tendant à obtenir leur production sous astreinte doit donc être rejetée . B) Sur les demandes en paiement formées contre la Société VYDIS Attendu qu'il n'est pas contesté que la Société VYDIS n'a pas réglé depuis le mois de septembre 2003 les redevances de location-gérance et que la société MILHAC SUD a dû en outre régler en ses lieu et place les loyers du local dans lequel était exploité les fonds de commerce donné en location-gérance ; Attendu qu'au 30 septembre 2004, ces loyers et redevances s'élevaient à 214 518,68 euros ; qu'en tenant compte de la déclaration de créance et de la convention de location-gérance prévoyant des intérêts au taux de 15 % l'an conformément à compter du 1er Octobre 2004, la créance de la société MILHAC SUD sera fixée à la somme de 227 752,10 euros ; Attendu, en revanche, que la Société MILHAC SUD ne justifie pas de l'existence d'un préjudice distinct de celui déjà indemnisé par les intérêts de retard ; qu'il y a lieu d'infirmer le jugement déféré en ce qu'il a alloué à cette Société des dommages-intérêts destinés à compenser les non-paiements ; C) Sur les demandes en paiement formées contre les époux X... Attendu que les époux X... se sont portés cautions solidaires, dans le contrat de location-gérance du 24 Juin 2002, du paiement de la redevance de la location-gérance et de toutes les charges afférentes à ce contrat, \" en ce compris le remboursement du loyer et des charges dûs au bailleur des locaux dans lesquels est exploité le fonds de commerce\" ; que cet engagement n'étant pas discuté, il convient de les condamner à payer à la Société MILHAC SUD, au titre de la redevance de location-gérance et des loyers, la somme de 227 752,10 euros ; Attendu qu'en raison de la situation économique des parties au litige, il n'y a pas lieu non plus de faire droit à la demande en paiement faite par la Société MILHAC SUD en application de l'article 700 du Nouveau Code de procédure civile ; qu'il convient, en revanche de laisser les dépens à la charge de la Société VYDIS qui succombe ; DECISION PAR CES MOTIFS La Cour , statuant publiquement , en matière commerciale , par arrêt réputé contradictoire et en dernier ressort : Déclare recevable l'appel formé par la Société VYDIS, Yannick X... et Valérie Y... épouse X... ; Infirme le jugement déféré et statuant à nouveau : Fixe la créance de la société MILHAC SUD sur la Société VYDIS à la somme de 227 752,10 euros ; Condamne solidairement Yannick X... et Valérie Y... épouse X... , en leur qualité de caution solidaire de la Société VYDIS à payer à la Société MILHAC SUD la somme de 227 752,10 euros ; Déboute la société MILHAC SUD de toutes ses autres demandes ; Dit n'y avoir lieu à application de l'article 700 du Nouveau Code de procédure civile ; Laisse les dépens à la charge de la Société VYDIS; . Le présent arrêt a été signé par Monsieur François CREZE, Président, et par Mme Annick PICOT, greffier auquel la minute de la décision a été remise par le magistrat signataire. LE GREFFIER signé LE PRESIDENT\n",
      "\n"
     ]
    }
   ],
   "source": [
    "# Predict on the training set\n",
    "y_pred = pipeline.predict(X_test)\n",
    "# Identify misclassified instances\n",
    "misclassified_indices = np.where(y_test != y_pred)[0]\n",
    "\n",
    "# Print a few misclassified instances and their true labels\n",
    "for index in misclassified_indices[:5]:\n",
    "    print(f\"True Label: {y_test.iloc[index]}, Predicted Label: {y_pred[index]}\")\n",
    "    print(f\"Text:\\n{X_test.iloc[index]}\\n\")"
   ]
  },
  {
   "cell_type": "markdown",
   "id": "39dd667a-e6e8-45dc-9de8-57863a3e99f7",
   "metadata": {},
   "source": [
    "### Feature importance analysis"
   ]
  },
  {
   "cell_type": "code",
   "execution_count": 33,
   "id": "c6d2a069-d771-44ea-bc24-ed9ee1966510",
   "metadata": {},
   "outputs": [
    {
     "data": {
      "text/plain": [
       "array([0., 0., 0., ..., 0., 0., 0.])"
      ]
     },
     "execution_count": 33,
     "metadata": {},
     "output_type": "execute_result"
    }
   ],
   "source": [
    "pipeline.named_steps['model'].feature_importances_"
   ]
  },
  {
   "cell_type": "code",
   "execution_count": 34,
   "id": "d0f04af3-3a8b-4133-8f1a-a47cc92ebd4b",
   "metadata": {},
   "outputs": [
    {
     "name": "stdout",
     "output_type": "stream",
     "text": [
      "Top 10 features contributing to misclassifications:\n",
      "conformément: 0.02\n",
      "exécuté: 0.02\n",
      "recours: 0.02\n",
      "décision: 0.02\n",
      "appelée: 0.02\n",
      "15: 0.02\n",
      "avait: 0.02\n",
      "francs: 0.04\n",
      "sociale: 0.04\n",
      "pénale: 0.06\n"
     ]
    }
   ],
   "source": [
    "if hasattr(pipeline.named_steps['model'], 'feature_importances_'):\n",
    "    feature_importances = pipeline.named_steps['model'].feature_importances_\n",
    "    feature_names = pipeline.named_steps['vectorizer'].get_feature_names_out()\n",
    "\n",
    "    # Display the top N features\n",
    "    top_features = np.argsort(feature_importances)[-10:]\n",
    "    print(f\"Top 10 features contributing to misclassifications:\")\n",
    "    for idx in top_features:\n",
    "        print(f\"{feature_names[idx]}: {feature_importances[idx]}\")"
   ]
  },
  {
   "cell_type": "code",
   "execution_count": 52,
   "id": "3bbbb5ad-79cf-4576-a8c4-1d992e66bb7f",
   "metadata": {},
   "outputs": [
    {
     "data": {
      "text/plain": [
       "array(['00', '000', '01', ..., 'événement', 'êtes', 'être'], dtype=object)"
      ]
     },
     "execution_count": 52,
     "metadata": {},
     "output_type": "execute_result"
    }
   ],
   "source": [
    "feature_names"
   ]
  },
  {
   "cell_type": "markdown",
   "id": "a28e7dde-ad0a-45c1-be05-a1279285cad0",
   "metadata": {},
   "source": [
    "## Feature analysis with table output"
   ]
  },
  {
   "cell_type": "code",
   "execution_count": 40,
   "id": "12718dec-a3ea-4096-a39c-594164211ce0",
   "metadata": {},
   "outputs": [],
   "source": [
    "import pandas as pd\n",
    "\n",
    "# Identify misclassified instances\n",
    "misclassified_indices = np.where(y_test != y_pred)[0]\n",
    "\n",
    "# Create a list to store data for the DataFrame\n",
    "data = []\n",
    "\n",
    "# Collect features for each misclassified instance\n",
    "for index in misclassified_indices:\n",
    "    true_label = y_test.iloc[index]\n",
    "    predicted_label = y_pred[index]\n",
    "    \n",
    "    # Get the feature importances for the misclassified instance\n",
    "    instance_importances = pipeline.named_steps['model'].feature_importances_\n",
    "    \n",
    "    # Display the top N features for the misclassified instance\n",
    "    top_features = np.argsort(instance_importances)[-10:]\n",
    "    \n",
    "    # Create a dictionary with relevant information\n",
    "    instance_data = {\n",
    "        'Instance': index + 1,\n",
    "        'True Label': true_label,\n",
    "        'Predicted Label': predicted_label,\n",
    "    }\n",
    "    \n",
    "    # Add top features to the dictionary\n",
    "    for i, idx in enumerate(top_features, 1):\n",
    "        instance_data[f'Top Feature {i}'] = feature_names[idx]\n",
    "        instance_data[f'Importance {i}'] = instance_importances[idx]\n",
    "    \n",
    "    # Append the dictionary to the data list\n",
    "    data.append(instance_data)\n",
    "\n",
    "# Create a DataFrame from the collected data\n",
    "columns = ['Instance', 'True Label', 'Predicted Label']\n",
    "for i in range(1, 11):\n",
    "    columns.extend([f'Top Feature {i}', f'Importance {i}'])\n",
    "\n",
    "df_results = pd.DataFrame(data, columns=columns)\n",
    "\n",
    "# Save the DataFrame as an Excel file\n",
    "df_results.to_excel('data/misclassifications_results.xlsx', index=False)\n"
   ]
  },
  {
   "cell_type": "code",
   "execution_count": 51,
   "id": "75cccd32-0f84-470a-b48f-644e4f3e060a",
   "metadata": {},
   "outputs": [
    {
     "name": "stdout",
     "output_type": "stream",
     "text": [
      "1 conformément\n",
      "2 exécuté\n",
      "3 recours\n",
      "4 décision\n",
      "5 appelée\n",
      "6 15\n",
      "7 avait\n",
      "8 francs\n",
      "9 sociale\n",
      "10 pénale\n"
     ]
    }
   ],
   "source": [
    "for i, idx in enumerate(top_features, 1):\n",
    "    print(i, feature_names[idx])"
   ]
  },
  {
   "cell_type": "code",
   "execution_count": 44,
   "id": "3d81631e-6b24-4ac3-a73e-89e913d79573",
   "metadata": {},
   "outputs": [
    {
     "data": {
      "text/html": [
       "<div>\n",
       "<style scoped>\n",
       "    .dataframe tbody tr th:only-of-type {\n",
       "        vertical-align: middle;\n",
       "    }\n",
       "\n",
       "    .dataframe tbody tr th {\n",
       "        vertical-align: top;\n",
       "    }\n",
       "\n",
       "    .dataframe thead th {\n",
       "        text-align: right;\n",
       "    }\n",
       "</style>\n",
       "<table border=\"1\" class=\"dataframe\">\n",
       "  <thead>\n",
       "    <tr style=\"text-align: right;\">\n",
       "      <th></th>\n",
       "      <th>Instance</th>\n",
       "      <th>True Label</th>\n",
       "      <th>Predicted Label</th>\n",
       "      <th>Top Feature 1</th>\n",
       "      <th>Importance 1</th>\n",
       "      <th>Top Feature 2</th>\n",
       "      <th>Importance 2</th>\n",
       "      <th>Top Feature 3</th>\n",
       "      <th>Importance 3</th>\n",
       "      <th>Top Feature 4</th>\n",
       "      <th>...</th>\n",
       "      <th>Top Feature 6</th>\n",
       "      <th>Importance 6</th>\n",
       "      <th>Top Feature 7</th>\n",
       "      <th>Importance 7</th>\n",
       "      <th>Top Feature 8</th>\n",
       "      <th>Importance 8</th>\n",
       "      <th>Top Feature 9</th>\n",
       "      <th>Importance 9</th>\n",
       "      <th>Top Feature 10</th>\n",
       "      <th>Importance 10</th>\n",
       "    </tr>\n",
       "  </thead>\n",
       "  <tbody>\n",
       "    <tr>\n",
       "      <th>0</th>\n",
       "      <td>16</td>\n",
       "      <td>2</td>\n",
       "      <td>0</td>\n",
       "      <td>conformément</td>\n",
       "      <td>0.02</td>\n",
       "      <td>exécuté</td>\n",
       "      <td>0.02</td>\n",
       "      <td>recours</td>\n",
       "      <td>0.02</td>\n",
       "      <td>décision</td>\n",
       "      <td>...</td>\n",
       "      <td>15</td>\n",
       "      <td>0.02</td>\n",
       "      <td>avait</td>\n",
       "      <td>0.02</td>\n",
       "      <td>francs</td>\n",
       "      <td>0.04</td>\n",
       "      <td>sociale</td>\n",
       "      <td>0.04</td>\n",
       "      <td>pénale</td>\n",
       "      <td>0.06</td>\n",
       "    </tr>\n",
       "    <tr>\n",
       "      <th>1</th>\n",
       "      <td>30</td>\n",
       "      <td>2</td>\n",
       "      <td>0</td>\n",
       "      <td>conformément</td>\n",
       "      <td>0.02</td>\n",
       "      <td>exécuté</td>\n",
       "      <td>0.02</td>\n",
       "      <td>recours</td>\n",
       "      <td>0.02</td>\n",
       "      <td>décision</td>\n",
       "      <td>...</td>\n",
       "      <td>15</td>\n",
       "      <td>0.02</td>\n",
       "      <td>avait</td>\n",
       "      <td>0.02</td>\n",
       "      <td>francs</td>\n",
       "      <td>0.04</td>\n",
       "      <td>sociale</td>\n",
       "      <td>0.04</td>\n",
       "      <td>pénale</td>\n",
       "      <td>0.06</td>\n",
       "    </tr>\n",
       "    <tr>\n",
       "      <th>2</th>\n",
       "      <td>46</td>\n",
       "      <td>0</td>\n",
       "      <td>2</td>\n",
       "      <td>conformément</td>\n",
       "      <td>0.02</td>\n",
       "      <td>exécuté</td>\n",
       "      <td>0.02</td>\n",
       "      <td>recours</td>\n",
       "      <td>0.02</td>\n",
       "      <td>décision</td>\n",
       "      <td>...</td>\n",
       "      <td>15</td>\n",
       "      <td>0.02</td>\n",
       "      <td>avait</td>\n",
       "      <td>0.02</td>\n",
       "      <td>francs</td>\n",
       "      <td>0.04</td>\n",
       "      <td>sociale</td>\n",
       "      <td>0.04</td>\n",
       "      <td>pénale</td>\n",
       "      <td>0.06</td>\n",
       "    </tr>\n",
       "    <tr>\n",
       "      <th>3</th>\n",
       "      <td>47</td>\n",
       "      <td>2</td>\n",
       "      <td>0</td>\n",
       "      <td>conformément</td>\n",
       "      <td>0.02</td>\n",
       "      <td>exécuté</td>\n",
       "      <td>0.02</td>\n",
       "      <td>recours</td>\n",
       "      <td>0.02</td>\n",
       "      <td>décision</td>\n",
       "      <td>...</td>\n",
       "      <td>15</td>\n",
       "      <td>0.02</td>\n",
       "      <td>avait</td>\n",
       "      <td>0.02</td>\n",
       "      <td>francs</td>\n",
       "      <td>0.04</td>\n",
       "      <td>sociale</td>\n",
       "      <td>0.04</td>\n",
       "      <td>pénale</td>\n",
       "      <td>0.06</td>\n",
       "    </tr>\n",
       "    <tr>\n",
       "      <th>4</th>\n",
       "      <td>49</td>\n",
       "      <td>2</td>\n",
       "      <td>0</td>\n",
       "      <td>conformément</td>\n",
       "      <td>0.02</td>\n",
       "      <td>exécuté</td>\n",
       "      <td>0.02</td>\n",
       "      <td>recours</td>\n",
       "      <td>0.02</td>\n",
       "      <td>décision</td>\n",
       "      <td>...</td>\n",
       "      <td>15</td>\n",
       "      <td>0.02</td>\n",
       "      <td>avait</td>\n",
       "      <td>0.02</td>\n",
       "      <td>francs</td>\n",
       "      <td>0.04</td>\n",
       "      <td>sociale</td>\n",
       "      <td>0.04</td>\n",
       "      <td>pénale</td>\n",
       "      <td>0.06</td>\n",
       "    </tr>\n",
       "    <tr>\n",
       "      <th>...</th>\n",
       "      <td>...</td>\n",
       "      <td>...</td>\n",
       "      <td>...</td>\n",
       "      <td>...</td>\n",
       "      <td>...</td>\n",
       "      <td>...</td>\n",
       "      <td>...</td>\n",
       "      <td>...</td>\n",
       "      <td>...</td>\n",
       "      <td>...</td>\n",
       "      <td>...</td>\n",
       "      <td>...</td>\n",
       "      <td>...</td>\n",
       "      <td>...</td>\n",
       "      <td>...</td>\n",
       "      <td>...</td>\n",
       "      <td>...</td>\n",
       "      <td>...</td>\n",
       "      <td>...</td>\n",
       "      <td>...</td>\n",
       "      <td>...</td>\n",
       "    </tr>\n",
       "    <tr>\n",
       "      <th>574</th>\n",
       "      <td>5581</td>\n",
       "      <td>2</td>\n",
       "      <td>0</td>\n",
       "      <td>conformément</td>\n",
       "      <td>0.02</td>\n",
       "      <td>exécuté</td>\n",
       "      <td>0.02</td>\n",
       "      <td>recours</td>\n",
       "      <td>0.02</td>\n",
       "      <td>décision</td>\n",
       "      <td>...</td>\n",
       "      <td>15</td>\n",
       "      <td>0.02</td>\n",
       "      <td>avait</td>\n",
       "      <td>0.02</td>\n",
       "      <td>francs</td>\n",
       "      <td>0.04</td>\n",
       "      <td>sociale</td>\n",
       "      <td>0.04</td>\n",
       "      <td>pénale</td>\n",
       "      <td>0.06</td>\n",
       "    </tr>\n",
       "    <tr>\n",
       "      <th>575</th>\n",
       "      <td>5583</td>\n",
       "      <td>0</td>\n",
       "      <td>2</td>\n",
       "      <td>conformément</td>\n",
       "      <td>0.02</td>\n",
       "      <td>exécuté</td>\n",
       "      <td>0.02</td>\n",
       "      <td>recours</td>\n",
       "      <td>0.02</td>\n",
       "      <td>décision</td>\n",
       "      <td>...</td>\n",
       "      <td>15</td>\n",
       "      <td>0.02</td>\n",
       "      <td>avait</td>\n",
       "      <td>0.02</td>\n",
       "      <td>francs</td>\n",
       "      <td>0.04</td>\n",
       "      <td>sociale</td>\n",
       "      <td>0.04</td>\n",
       "      <td>pénale</td>\n",
       "      <td>0.06</td>\n",
       "    </tr>\n",
       "    <tr>\n",
       "      <th>576</th>\n",
       "      <td>5589</td>\n",
       "      <td>2</td>\n",
       "      <td>0</td>\n",
       "      <td>conformément</td>\n",
       "      <td>0.02</td>\n",
       "      <td>exécuté</td>\n",
       "      <td>0.02</td>\n",
       "      <td>recours</td>\n",
       "      <td>0.02</td>\n",
       "      <td>décision</td>\n",
       "      <td>...</td>\n",
       "      <td>15</td>\n",
       "      <td>0.02</td>\n",
       "      <td>avait</td>\n",
       "      <td>0.02</td>\n",
       "      <td>francs</td>\n",
       "      <td>0.04</td>\n",
       "      <td>sociale</td>\n",
       "      <td>0.04</td>\n",
       "      <td>pénale</td>\n",
       "      <td>0.06</td>\n",
       "    </tr>\n",
       "    <tr>\n",
       "      <th>577</th>\n",
       "      <td>5593</td>\n",
       "      <td>2</td>\n",
       "      <td>0</td>\n",
       "      <td>conformément</td>\n",
       "      <td>0.02</td>\n",
       "      <td>exécuté</td>\n",
       "      <td>0.02</td>\n",
       "      <td>recours</td>\n",
       "      <td>0.02</td>\n",
       "      <td>décision</td>\n",
       "      <td>...</td>\n",
       "      <td>15</td>\n",
       "      <td>0.02</td>\n",
       "      <td>avait</td>\n",
       "      <td>0.02</td>\n",
       "      <td>francs</td>\n",
       "      <td>0.04</td>\n",
       "      <td>sociale</td>\n",
       "      <td>0.04</td>\n",
       "      <td>pénale</td>\n",
       "      <td>0.06</td>\n",
       "    </tr>\n",
       "    <tr>\n",
       "      <th>578</th>\n",
       "      <td>5594</td>\n",
       "      <td>0</td>\n",
       "      <td>3</td>\n",
       "      <td>conformément</td>\n",
       "      <td>0.02</td>\n",
       "      <td>exécuté</td>\n",
       "      <td>0.02</td>\n",
       "      <td>recours</td>\n",
       "      <td>0.02</td>\n",
       "      <td>décision</td>\n",
       "      <td>...</td>\n",
       "      <td>15</td>\n",
       "      <td>0.02</td>\n",
       "      <td>avait</td>\n",
       "      <td>0.02</td>\n",
       "      <td>francs</td>\n",
       "      <td>0.04</td>\n",
       "      <td>sociale</td>\n",
       "      <td>0.04</td>\n",
       "      <td>pénale</td>\n",
       "      <td>0.06</td>\n",
       "    </tr>\n",
       "  </tbody>\n",
       "</table>\n",
       "<p>579 rows × 23 columns</p>\n",
       "</div>"
      ],
      "text/plain": [
       "     Instance  True Label  Predicted Label Top Feature 1  Importance 1  \\\n",
       "0          16           2                0  conformément          0.02   \n",
       "1          30           2                0  conformément          0.02   \n",
       "2          46           0                2  conformément          0.02   \n",
       "3          47           2                0  conformément          0.02   \n",
       "4          49           2                0  conformément          0.02   \n",
       "..        ...         ...              ...           ...           ...   \n",
       "574      5581           2                0  conformément          0.02   \n",
       "575      5583           0                2  conformément          0.02   \n",
       "576      5589           2                0  conformément          0.02   \n",
       "577      5593           2                0  conformément          0.02   \n",
       "578      5594           0                3  conformément          0.02   \n",
       "\n",
       "    Top Feature 2  Importance 2 Top Feature 3  Importance 3 Top Feature 4  \\\n",
       "0         exécuté          0.02       recours          0.02      décision   \n",
       "1         exécuté          0.02       recours          0.02      décision   \n",
       "2         exécuté          0.02       recours          0.02      décision   \n",
       "3         exécuté          0.02       recours          0.02      décision   \n",
       "4         exécuté          0.02       recours          0.02      décision   \n",
       "..            ...           ...           ...           ...           ...   \n",
       "574       exécuté          0.02       recours          0.02      décision   \n",
       "575       exécuté          0.02       recours          0.02      décision   \n",
       "576       exécuté          0.02       recours          0.02      décision   \n",
       "577       exécuté          0.02       recours          0.02      décision   \n",
       "578       exécuté          0.02       recours          0.02      décision   \n",
       "\n",
       "     ...  Top Feature 6 Importance 6  Top Feature 7 Importance 7  \\\n",
       "0    ...             15         0.02          avait         0.02   \n",
       "1    ...             15         0.02          avait         0.02   \n",
       "2    ...             15         0.02          avait         0.02   \n",
       "3    ...             15         0.02          avait         0.02   \n",
       "4    ...             15         0.02          avait         0.02   \n",
       "..   ...            ...          ...            ...          ...   \n",
       "574  ...             15         0.02          avait         0.02   \n",
       "575  ...             15         0.02          avait         0.02   \n",
       "576  ...             15         0.02          avait         0.02   \n",
       "577  ...             15         0.02          avait         0.02   \n",
       "578  ...             15         0.02          avait         0.02   \n",
       "\n",
       "     Top Feature 8 Importance 8  Top Feature 9 Importance 9  Top Feature 10  \\\n",
       "0           francs         0.04        sociale         0.04          pénale   \n",
       "1           francs         0.04        sociale         0.04          pénale   \n",
       "2           francs         0.04        sociale         0.04          pénale   \n",
       "3           francs         0.04        sociale         0.04          pénale   \n",
       "4           francs         0.04        sociale         0.04          pénale   \n",
       "..             ...          ...            ...          ...             ...   \n",
       "574         francs         0.04        sociale         0.04          pénale   \n",
       "575         francs         0.04        sociale         0.04          pénale   \n",
       "576         francs         0.04        sociale         0.04          pénale   \n",
       "577         francs         0.04        sociale         0.04          pénale   \n",
       "578         francs         0.04        sociale         0.04          pénale   \n",
       "\n",
       "    Importance 10  \n",
       "0            0.06  \n",
       "1            0.06  \n",
       "2            0.06  \n",
       "3            0.06  \n",
       "4            0.06  \n",
       "..            ...  \n",
       "574          0.06  \n",
       "575          0.06  \n",
       "576          0.06  \n",
       "577          0.06  \n",
       "578          0.06  \n",
       "\n",
       "[579 rows x 23 columns]"
      ]
     },
     "execution_count": 44,
     "metadata": {},
     "output_type": "execute_result"
    }
   ],
   "source": [
    "df_results"
   ]
  },
  {
   "cell_type": "code",
   "execution_count": 45,
   "id": "8e93bf3a-43d8-488f-9753-cea292ac5db6",
   "metadata": {},
   "outputs": [
    {
     "data": {
      "text/plain": [
       "True Label  Predicted Label\n",
       "2           0                  323\n",
       "3           0                  104\n",
       "0           2                   97\n",
       "            3                   33\n",
       "1           0                   12\n",
       "2           3                    8\n",
       "3           2                    2\n",
       "Name: count, dtype: int64"
      ]
     },
     "execution_count": 45,
     "metadata": {},
     "output_type": "execute_result"
    }
   ],
   "source": [
    "df_results[[\"True Label\", \"Predicted Label\"]].value_counts()"
   ]
  },
  {
   "cell_type": "code",
   "execution_count": 46,
   "id": "12c26f43-7cc2-43fc-9211-b79efc4a120a",
   "metadata": {},
   "outputs": [
    {
     "data": {
      "text/plain": [
       "Top Feature 1\n",
       "conformément    579\n",
       "Name: count, dtype: int64"
      ]
     },
     "execution_count": 46,
     "metadata": {},
     "output_type": "execute_result"
    }
   ],
   "source": [
    "df_results[\"Top Feature 1\"].value_counts()"
   ]
  },
  {
   "cell_type": "code",
   "execution_count": 48,
   "id": "f1742c22-a95d-4c7a-8a0b-4ace07d9ced9",
   "metadata": {},
   "outputs": [
    {
     "data": {
      "text/plain": [
       "label\n",
       "CIV     13087\n",
       "SOC     12262\n",
       "COM      2265\n",
       "CRIM      384\n",
       "Name: count, dtype: int64"
      ]
     },
     "execution_count": 48,
     "metadata": {},
     "output_type": "execute_result"
    }
   ],
   "source": [
    "df[\"label\"].value_counts(dropna=False)"
   ]
  }
 ],
 "metadata": {
  "kernelspec": {
   "display_name": "Python 3 (ipykernel)",
   "language": "python",
   "name": "python3"
  },
  "language_info": {
   "codemirror_mode": {
    "name": "ipython",
    "version": 3
   },
   "file_extension": ".py",
   "mimetype": "text/x-python",
   "name": "python",
   "nbconvert_exporter": "python",
   "pygments_lexer": "ipython3",
   "version": "3.11.7"
  }
 },
 "nbformat": 4,
 "nbformat_minor": 5
}
